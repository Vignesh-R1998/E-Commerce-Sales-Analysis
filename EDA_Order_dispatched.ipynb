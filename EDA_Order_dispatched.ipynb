{
 "cells": [
  {
   "cell_type": "markdown",
   "metadata": {},
   "source": [
    "# Exploratory Data Analysis (EDA) for Order Dispatched"
   ]
  },
  {
   "cell_type": "code",
   "execution_count": 1,
   "metadata": {},
   "outputs": [
    {
     "name": "stderr",
     "output_type": "stream",
     "text": [
      "c:\\Users\\Admin\\anaconda3\\lib\\site-packages\\scipy\\__init__.py:155: UserWarning: A NumPy version >=1.18.5 and <1.25.0 is required for this version of SciPy (detected version 1.26.0\n",
      "  warnings.warn(f\"A NumPy version >={np_minversion} and <{np_maxversion}\"\n"
     ]
    }
   ],
   "source": [
    "# importing necessay libraries\n",
    "import pandas as pd\n",
    "import numpy as np\n",
    "import matplotlib.pyplot as plt\n",
    "import sklearn as sns"
   ]
  },
  {
   "cell_type": "code",
   "execution_count": 2,
   "metadata": {},
   "outputs": [],
   "source": [
    "# Reading cleaned CSV of dispatched orders\n",
    "df= pd.read_csv(\"orders dispatched.csv\")"
   ]
  },
  {
   "cell_type": "code",
   "execution_count": 3,
   "metadata": {},
   "outputs": [
    {
     "data": {
      "text/html": [
       "<div>\n",
       "<style scoped>\n",
       "    .dataframe tbody tr th:only-of-type {\n",
       "        vertical-align: middle;\n",
       "    }\n",
       "\n",
       "    .dataframe tbody tr th {\n",
       "        vertical-align: top;\n",
       "    }\n",
       "\n",
       "    .dataframe thead th {\n",
       "        text-align: right;\n",
       "    }\n",
       "</style>\n",
       "<table border=\"1\" class=\"dataframe\">\n",
       "  <thead>\n",
       "    <tr style=\"text-align: right;\">\n",
       "      <th></th>\n",
       "      <th>invoice no</th>\n",
       "      <th>stock code</th>\n",
       "      <th>description</th>\n",
       "      <th>quantity</th>\n",
       "      <th>invoice date</th>\n",
       "      <th>unit price</th>\n",
       "      <th>customer ID</th>\n",
       "      <th>country</th>\n",
       "      <th>total price</th>\n",
       "    </tr>\n",
       "  </thead>\n",
       "  <tbody>\n",
       "    <tr>\n",
       "      <th>0</th>\n",
       "      <td>536365</td>\n",
       "      <td>84406B</td>\n",
       "      <td>CREAM CUPID HEARTS COAT HANGER</td>\n",
       "      <td>8</td>\n",
       "      <td>2010-12-01 08:26:00</td>\n",
       "      <td>2.75</td>\n",
       "      <td>17850</td>\n",
       "      <td>United Kingdom</td>\n",
       "      <td>22.00</td>\n",
       "    </tr>\n",
       "    <tr>\n",
       "      <th>1</th>\n",
       "      <td>536365</td>\n",
       "      <td>21730</td>\n",
       "      <td>GLASS STAR FROSTED T-LIGHT HOLDER</td>\n",
       "      <td>6</td>\n",
       "      <td>2010-12-01 08:26:00</td>\n",
       "      <td>4.25</td>\n",
       "      <td>17850</td>\n",
       "      <td>United Kingdom</td>\n",
       "      <td>25.50</td>\n",
       "    </tr>\n",
       "    <tr>\n",
       "      <th>2</th>\n",
       "      <td>536365</td>\n",
       "      <td>84029G</td>\n",
       "      <td>KNITTED UNION FLAG HOT WATER BOTTLE</td>\n",
       "      <td>6</td>\n",
       "      <td>2010-12-01 08:26:00</td>\n",
       "      <td>3.39</td>\n",
       "      <td>17850</td>\n",
       "      <td>United Kingdom</td>\n",
       "      <td>20.34</td>\n",
       "    </tr>\n",
       "    <tr>\n",
       "      <th>3</th>\n",
       "      <td>536365</td>\n",
       "      <td>84029E</td>\n",
       "      <td>RED WOOLLY HOTTIE WHITE HEART.</td>\n",
       "      <td>6</td>\n",
       "      <td>2010-12-01 08:26:00</td>\n",
       "      <td>3.39</td>\n",
       "      <td>17850</td>\n",
       "      <td>United Kingdom</td>\n",
       "      <td>20.34</td>\n",
       "    </tr>\n",
       "    <tr>\n",
       "      <th>4</th>\n",
       "      <td>536365</td>\n",
       "      <td>22752</td>\n",
       "      <td>SET 7 BABUSHKA NESTING BOXES</td>\n",
       "      <td>2</td>\n",
       "      <td>2010-12-01 08:26:00</td>\n",
       "      <td>7.65</td>\n",
       "      <td>17850</td>\n",
       "      <td>United Kingdom</td>\n",
       "      <td>15.30</td>\n",
       "    </tr>\n",
       "    <tr>\n",
       "      <th>...</th>\n",
       "      <td>...</td>\n",
       "      <td>...</td>\n",
       "      <td>...</td>\n",
       "      <td>...</td>\n",
       "      <td>...</td>\n",
       "      <td>...</td>\n",
       "      <td>...</td>\n",
       "      <td>...</td>\n",
       "      <td>...</td>\n",
       "    </tr>\n",
       "    <tr>\n",
       "      <th>396502</th>\n",
       "      <td>581587</td>\n",
       "      <td>22631</td>\n",
       "      <td>CIRCUS PARADE LUNCH BOX</td>\n",
       "      <td>12</td>\n",
       "      <td>2011-12-09 12:50:00</td>\n",
       "      <td>1.95</td>\n",
       "      <td>12680</td>\n",
       "      <td>France</td>\n",
       "      <td>23.40</td>\n",
       "    </tr>\n",
       "    <tr>\n",
       "      <th>396503</th>\n",
       "      <td>581587</td>\n",
       "      <td>22613</td>\n",
       "      <td>PACK OF 20 SPACEBOY NAPKINS</td>\n",
       "      <td>12</td>\n",
       "      <td>2011-12-09 12:50:00</td>\n",
       "      <td>0.85</td>\n",
       "      <td>12680</td>\n",
       "      <td>France</td>\n",
       "      <td>10.20</td>\n",
       "    </tr>\n",
       "    <tr>\n",
       "      <th>396504</th>\n",
       "      <td>581587</td>\n",
       "      <td>22556</td>\n",
       "      <td>PLASTERS IN TIN CIRCUS PARADE</td>\n",
       "      <td>12</td>\n",
       "      <td>2011-12-09 12:50:00</td>\n",
       "      <td>1.65</td>\n",
       "      <td>12680</td>\n",
       "      <td>France</td>\n",
       "      <td>19.80</td>\n",
       "    </tr>\n",
       "    <tr>\n",
       "      <th>396505</th>\n",
       "      <td>581587</td>\n",
       "      <td>22555</td>\n",
       "      <td>PLASTERS IN TIN STRONGMAN</td>\n",
       "      <td>12</td>\n",
       "      <td>2011-12-09 12:50:00</td>\n",
       "      <td>1.65</td>\n",
       "      <td>12680</td>\n",
       "      <td>France</td>\n",
       "      <td>19.80</td>\n",
       "    </tr>\n",
       "    <tr>\n",
       "      <th>396506</th>\n",
       "      <td>581587</td>\n",
       "      <td>22629</td>\n",
       "      <td>SPACEBOY LUNCH BOX</td>\n",
       "      <td>12</td>\n",
       "      <td>2011-12-09 12:50:00</td>\n",
       "      <td>1.95</td>\n",
       "      <td>12680</td>\n",
       "      <td>France</td>\n",
       "      <td>23.40</td>\n",
       "    </tr>\n",
       "  </tbody>\n",
       "</table>\n",
       "<p>396507 rows × 9 columns</p>\n",
       "</div>"
      ],
      "text/plain": [
       "        invoice no stock code                          description  quantity  \\\n",
       "0           536365     84406B       CREAM CUPID HEARTS COAT HANGER         8   \n",
       "1           536365      21730    GLASS STAR FROSTED T-LIGHT HOLDER         6   \n",
       "2           536365     84029G  KNITTED UNION FLAG HOT WATER BOTTLE         6   \n",
       "3           536365     84029E       RED WOOLLY HOTTIE WHITE HEART.         6   \n",
       "4           536365      22752         SET 7 BABUSHKA NESTING BOXES         2   \n",
       "...            ...        ...                                  ...       ...   \n",
       "396502      581587      22631             CIRCUS PARADE LUNCH BOX         12   \n",
       "396503      581587      22613          PACK OF 20 SPACEBOY NAPKINS        12   \n",
       "396504      581587      22556       PLASTERS IN TIN CIRCUS PARADE         12   \n",
       "396505      581587      22555            PLASTERS IN TIN STRONGMAN        12   \n",
       "396506      581587      22629                  SPACEBOY LUNCH BOX         12   \n",
       "\n",
       "               invoice date  unit price  customer ID         country  \\\n",
       "0       2010-12-01 08:26:00        2.75        17850  United Kingdom   \n",
       "1       2010-12-01 08:26:00        4.25        17850  United Kingdom   \n",
       "2       2010-12-01 08:26:00        3.39        17850  United Kingdom   \n",
       "3       2010-12-01 08:26:00        3.39        17850  United Kingdom   \n",
       "4       2010-12-01 08:26:00        7.65        17850  United Kingdom   \n",
       "...                     ...         ...          ...             ...   \n",
       "396502  2011-12-09 12:50:00        1.95        12680          France   \n",
       "396503  2011-12-09 12:50:00        0.85        12680          France   \n",
       "396504  2011-12-09 12:50:00        1.65        12680          France   \n",
       "396505  2011-12-09 12:50:00        1.65        12680          France   \n",
       "396506  2011-12-09 12:50:00        1.95        12680          France   \n",
       "\n",
       "        total price  \n",
       "0             22.00  \n",
       "1             25.50  \n",
       "2             20.34  \n",
       "3             20.34  \n",
       "4             15.30  \n",
       "...             ...  \n",
       "396502        23.40  \n",
       "396503        10.20  \n",
       "396504        19.80  \n",
       "396505        19.80  \n",
       "396506        23.40  \n",
       "\n",
       "[396507 rows x 9 columns]"
      ]
     },
     "execution_count": 3,
     "metadata": {},
     "output_type": "execute_result"
    }
   ],
   "source": [
    "df"
   ]
  },
  {
   "cell_type": "code",
   "execution_count": 4,
   "metadata": {},
   "outputs": [
    {
     "data": {
      "text/plain": [
       "invoice no        int64\n",
       "stock code       object\n",
       "description      object\n",
       "quantity          int64\n",
       "invoice date     object\n",
       "unit price      float64\n",
       "customer ID       int64\n",
       "country          object\n",
       "total price     float64\n",
       "dtype: object"
      ]
     },
     "execution_count": 4,
     "metadata": {},
     "output_type": "execute_result"
    }
   ],
   "source": [
    "df.dtypes"
   ]
  },
  {
   "cell_type": "markdown",
   "metadata": {},
   "source": [
    "Making necessary changes to the data types"
   ]
  },
  {
   "cell_type": "code",
   "execution_count": 5,
   "metadata": {},
   "outputs": [],
   "source": [
    "df[\"invoice date\"]= df[\"invoice date\"].astype(\"datetime64[ns]\")"
   ]
  },
  {
   "cell_type": "code",
   "execution_count": 6,
   "metadata": {},
   "outputs": [
    {
     "data": {
      "text/plain": [
       "invoice no               int64\n",
       "stock code              object\n",
       "description             object\n",
       "quantity                 int64\n",
       "invoice date    datetime64[ns]\n",
       "unit price             float64\n",
       "customer ID              int64\n",
       "country                 object\n",
       "total price            float64\n",
       "dtype: object"
      ]
     },
     "execution_count": 6,
     "metadata": {},
     "output_type": "execute_result"
    }
   ],
   "source": [
    "df.dtypes"
   ]
  },
  {
   "cell_type": "markdown",
   "metadata": {},
   "source": [
    "Data Types is Perfect!"
   ]
  },
  {
   "cell_type": "markdown",
   "metadata": {},
   "source": [
    "Let's check for NaN values "
   ]
  },
  {
   "cell_type": "code",
   "execution_count": 7,
   "metadata": {},
   "outputs": [
    {
     "data": {
      "text/plain": [
       "invoice no      0\n",
       "stock code      0\n",
       "description     0\n",
       "quantity        0\n",
       "invoice date    0\n",
       "unit price      0\n",
       "customer ID     0\n",
       "country         0\n",
       "total price     0\n",
       "dtype: int64"
      ]
     },
     "execution_count": 7,
     "metadata": {},
     "output_type": "execute_result"
    }
   ],
   "source": [
    "df.isna().sum()"
   ]
  },
  {
   "cell_type": "markdown",
   "metadata": {},
   "source": [
    "Excellent! we dont have any NaN values in our \"df\""
   ]
  },
  {
   "cell_type": "markdown",
   "metadata": {},
   "source": [
    "lets drop duplicates!"
   ]
  },
  {
   "cell_type": "code",
   "execution_count": 8,
   "metadata": {},
   "outputs": [
    {
     "data": {
      "text/plain": [
       "(396507, 9)"
      ]
     },
     "execution_count": 8,
     "metadata": {},
     "output_type": "execute_result"
    }
   ],
   "source": [
    "df.shape"
   ]
  },
  {
   "cell_type": "code",
   "execution_count": 9,
   "metadata": {},
   "outputs": [],
   "source": [
    "df.drop_duplicates(inplace= True)"
   ]
  },
  {
   "cell_type": "code",
   "execution_count": 10,
   "metadata": {},
   "outputs": [
    {
     "data": {
      "text/plain": [
       "(391319, 9)"
      ]
     },
     "execution_count": 10,
     "metadata": {},
     "output_type": "execute_result"
    }
   ],
   "source": [
    "df.shape"
   ]
  },
  {
   "cell_type": "markdown",
   "metadata": {},
   "source": [
    "we see that, there is a drop in rows ! which means we removed Duplicates from the df"
   ]
  },
  {
   "cell_type": "code",
   "execution_count": 11,
   "metadata": {},
   "outputs": [
    {
     "data": {
      "text/html": [
       "<div>\n",
       "<style scoped>\n",
       "    .dataframe tbody tr th:only-of-type {\n",
       "        vertical-align: middle;\n",
       "    }\n",
       "\n",
       "    .dataframe tbody tr th {\n",
       "        vertical-align: top;\n",
       "    }\n",
       "\n",
       "    .dataframe thead th {\n",
       "        text-align: right;\n",
       "    }\n",
       "</style>\n",
       "<table border=\"1\" class=\"dataframe\">\n",
       "  <thead>\n",
       "    <tr style=\"text-align: right;\">\n",
       "      <th></th>\n",
       "      <th>invoice no</th>\n",
       "      <th>stock code</th>\n",
       "      <th>description</th>\n",
       "      <th>quantity</th>\n",
       "      <th>invoice date</th>\n",
       "      <th>unit price</th>\n",
       "      <th>customer ID</th>\n",
       "      <th>country</th>\n",
       "      <th>total price</th>\n",
       "    </tr>\n",
       "  </thead>\n",
       "  <tbody>\n",
       "    <tr>\n",
       "      <th>0</th>\n",
       "      <td>536365</td>\n",
       "      <td>84406B</td>\n",
       "      <td>CREAM CUPID HEARTS COAT HANGER</td>\n",
       "      <td>8</td>\n",
       "      <td>2010-12-01 08:26:00</td>\n",
       "      <td>2.75</td>\n",
       "      <td>17850</td>\n",
       "      <td>United Kingdom</td>\n",
       "      <td>22.00</td>\n",
       "    </tr>\n",
       "    <tr>\n",
       "      <th>1</th>\n",
       "      <td>536365</td>\n",
       "      <td>21730</td>\n",
       "      <td>GLASS STAR FROSTED T-LIGHT HOLDER</td>\n",
       "      <td>6</td>\n",
       "      <td>2010-12-01 08:26:00</td>\n",
       "      <td>4.25</td>\n",
       "      <td>17850</td>\n",
       "      <td>United Kingdom</td>\n",
       "      <td>25.50</td>\n",
       "    </tr>\n",
       "    <tr>\n",
       "      <th>2</th>\n",
       "      <td>536365</td>\n",
       "      <td>84029G</td>\n",
       "      <td>KNITTED UNION FLAG HOT WATER BOTTLE</td>\n",
       "      <td>6</td>\n",
       "      <td>2010-12-01 08:26:00</td>\n",
       "      <td>3.39</td>\n",
       "      <td>17850</td>\n",
       "      <td>United Kingdom</td>\n",
       "      <td>20.34</td>\n",
       "    </tr>\n",
       "    <tr>\n",
       "      <th>3</th>\n",
       "      <td>536365</td>\n",
       "      <td>84029E</td>\n",
       "      <td>RED WOOLLY HOTTIE WHITE HEART.</td>\n",
       "      <td>6</td>\n",
       "      <td>2010-12-01 08:26:00</td>\n",
       "      <td>3.39</td>\n",
       "      <td>17850</td>\n",
       "      <td>United Kingdom</td>\n",
       "      <td>20.34</td>\n",
       "    </tr>\n",
       "    <tr>\n",
       "      <th>4</th>\n",
       "      <td>536365</td>\n",
       "      <td>22752</td>\n",
       "      <td>SET 7 BABUSHKA NESTING BOXES</td>\n",
       "      <td>2</td>\n",
       "      <td>2010-12-01 08:26:00</td>\n",
       "      <td>7.65</td>\n",
       "      <td>17850</td>\n",
       "      <td>United Kingdom</td>\n",
       "      <td>15.30</td>\n",
       "    </tr>\n",
       "    <tr>\n",
       "      <th>...</th>\n",
       "      <td>...</td>\n",
       "      <td>...</td>\n",
       "      <td>...</td>\n",
       "      <td>...</td>\n",
       "      <td>...</td>\n",
       "      <td>...</td>\n",
       "      <td>...</td>\n",
       "      <td>...</td>\n",
       "      <td>...</td>\n",
       "    </tr>\n",
       "    <tr>\n",
       "      <th>396502</th>\n",
       "      <td>581587</td>\n",
       "      <td>22631</td>\n",
       "      <td>CIRCUS PARADE LUNCH BOX</td>\n",
       "      <td>12</td>\n",
       "      <td>2011-12-09 12:50:00</td>\n",
       "      <td>1.95</td>\n",
       "      <td>12680</td>\n",
       "      <td>France</td>\n",
       "      <td>23.40</td>\n",
       "    </tr>\n",
       "    <tr>\n",
       "      <th>396503</th>\n",
       "      <td>581587</td>\n",
       "      <td>22613</td>\n",
       "      <td>PACK OF 20 SPACEBOY NAPKINS</td>\n",
       "      <td>12</td>\n",
       "      <td>2011-12-09 12:50:00</td>\n",
       "      <td>0.85</td>\n",
       "      <td>12680</td>\n",
       "      <td>France</td>\n",
       "      <td>10.20</td>\n",
       "    </tr>\n",
       "    <tr>\n",
       "      <th>396504</th>\n",
       "      <td>581587</td>\n",
       "      <td>22556</td>\n",
       "      <td>PLASTERS IN TIN CIRCUS PARADE</td>\n",
       "      <td>12</td>\n",
       "      <td>2011-12-09 12:50:00</td>\n",
       "      <td>1.65</td>\n",
       "      <td>12680</td>\n",
       "      <td>France</td>\n",
       "      <td>19.80</td>\n",
       "    </tr>\n",
       "    <tr>\n",
       "      <th>396505</th>\n",
       "      <td>581587</td>\n",
       "      <td>22555</td>\n",
       "      <td>PLASTERS IN TIN STRONGMAN</td>\n",
       "      <td>12</td>\n",
       "      <td>2011-12-09 12:50:00</td>\n",
       "      <td>1.65</td>\n",
       "      <td>12680</td>\n",
       "      <td>France</td>\n",
       "      <td>19.80</td>\n",
       "    </tr>\n",
       "    <tr>\n",
       "      <th>396506</th>\n",
       "      <td>581587</td>\n",
       "      <td>22629</td>\n",
       "      <td>SPACEBOY LUNCH BOX</td>\n",
       "      <td>12</td>\n",
       "      <td>2011-12-09 12:50:00</td>\n",
       "      <td>1.95</td>\n",
       "      <td>12680</td>\n",
       "      <td>France</td>\n",
       "      <td>23.40</td>\n",
       "    </tr>\n",
       "  </tbody>\n",
       "</table>\n",
       "<p>391319 rows × 9 columns</p>\n",
       "</div>"
      ],
      "text/plain": [
       "        invoice no stock code                          description  quantity  \\\n",
       "0           536365     84406B       CREAM CUPID HEARTS COAT HANGER         8   \n",
       "1           536365      21730    GLASS STAR FROSTED T-LIGHT HOLDER         6   \n",
       "2           536365     84029G  KNITTED UNION FLAG HOT WATER BOTTLE         6   \n",
       "3           536365     84029E       RED WOOLLY HOTTIE WHITE HEART.         6   \n",
       "4           536365      22752         SET 7 BABUSHKA NESTING BOXES         2   \n",
       "...            ...        ...                                  ...       ...   \n",
       "396502      581587      22631             CIRCUS PARADE LUNCH BOX         12   \n",
       "396503      581587      22613          PACK OF 20 SPACEBOY NAPKINS        12   \n",
       "396504      581587      22556       PLASTERS IN TIN CIRCUS PARADE         12   \n",
       "396505      581587      22555            PLASTERS IN TIN STRONGMAN        12   \n",
       "396506      581587      22629                  SPACEBOY LUNCH BOX         12   \n",
       "\n",
       "              invoice date  unit price  customer ID         country  \\\n",
       "0      2010-12-01 08:26:00        2.75        17850  United Kingdom   \n",
       "1      2010-12-01 08:26:00        4.25        17850  United Kingdom   \n",
       "2      2010-12-01 08:26:00        3.39        17850  United Kingdom   \n",
       "3      2010-12-01 08:26:00        3.39        17850  United Kingdom   \n",
       "4      2010-12-01 08:26:00        7.65        17850  United Kingdom   \n",
       "...                    ...         ...          ...             ...   \n",
       "396502 2011-12-09 12:50:00        1.95        12680          France   \n",
       "396503 2011-12-09 12:50:00        0.85        12680          France   \n",
       "396504 2011-12-09 12:50:00        1.65        12680          France   \n",
       "396505 2011-12-09 12:50:00        1.65        12680          France   \n",
       "396506 2011-12-09 12:50:00        1.95        12680          France   \n",
       "\n",
       "        total price  \n",
       "0             22.00  \n",
       "1             25.50  \n",
       "2             20.34  \n",
       "3             20.34  \n",
       "4             15.30  \n",
       "...             ...  \n",
       "396502        23.40  \n",
       "396503        10.20  \n",
       "396504        19.80  \n",
       "396505        19.80  \n",
       "396506        23.40  \n",
       "\n",
       "[391319 rows x 9 columns]"
      ]
     },
     "execution_count": 11,
     "metadata": {},
     "output_type": "execute_result"
    }
   ],
   "source": [
    "df"
   ]
  },
  {
   "cell_type": "markdown",
   "metadata": {},
   "source": [
    "# Things to Explore !!!\n",
    "1. Descriptive statistics\n",
    "2. Time Based Analysis\n",
    "3. Product Analysis\n",
    "4. Customer Analysis\n",
    "5. Relations and conclusion"
   ]
  },
  {
   "cell_type": "markdown",
   "metadata": {},
   "source": [
    "# 1. Decriptive Statistics"
   ]
  },
  {
   "cell_type": "code",
   "execution_count": 12,
   "metadata": {},
   "outputs": [
    {
     "data": {
      "text/html": [
       "<div>\n",
       "<style scoped>\n",
       "    .dataframe tbody tr th:only-of-type {\n",
       "        vertical-align: middle;\n",
       "    }\n",
       "\n",
       "    .dataframe tbody tr th {\n",
       "        vertical-align: top;\n",
       "    }\n",
       "\n",
       "    .dataframe thead th {\n",
       "        text-align: right;\n",
       "    }\n",
       "</style>\n",
       "<table border=\"1\" class=\"dataframe\">\n",
       "  <thead>\n",
       "    <tr style=\"text-align: right;\">\n",
       "      <th></th>\n",
       "      <th>invoice no</th>\n",
       "      <th>quantity</th>\n",
       "      <th>invoice date</th>\n",
       "      <th>unit price</th>\n",
       "      <th>customer ID</th>\n",
       "      <th>total price</th>\n",
       "    </tr>\n",
       "  </thead>\n",
       "  <tbody>\n",
       "    <tr>\n",
       "      <th>count</th>\n",
       "      <td>391319.000000</td>\n",
       "      <td>391319.000000</td>\n",
       "      <td>391319</td>\n",
       "      <td>391319.000000</td>\n",
       "      <td>391319.000000</td>\n",
       "      <td>391319.000000</td>\n",
       "    </tr>\n",
       "    <tr>\n",
       "      <th>mean</th>\n",
       "      <td>560592.879260</td>\n",
       "      <td>13.175432</td>\n",
       "      <td>2011-07-10 19:37:34.518027264</td>\n",
       "      <td>2.890469</td>\n",
       "      <td>15294.850201</td>\n",
       "      <td>22.379209</td>\n",
       "    </tr>\n",
       "    <tr>\n",
       "      <th>min</th>\n",
       "      <td>536365.000000</td>\n",
       "      <td>1.000000</td>\n",
       "      <td>2010-12-01 08:26:00</td>\n",
       "      <td>0.001000</td>\n",
       "      <td>12346.000000</td>\n",
       "      <td>0.001000</td>\n",
       "    </tr>\n",
       "    <tr>\n",
       "      <th>25%</th>\n",
       "      <td>549235.000000</td>\n",
       "      <td>2.000000</td>\n",
       "      <td>2011-04-07 11:16:00</td>\n",
       "      <td>1.250000</td>\n",
       "      <td>13969.000000</td>\n",
       "      <td>4.950000</td>\n",
       "    </tr>\n",
       "    <tr>\n",
       "      <th>50%</th>\n",
       "      <td>561875.000000</td>\n",
       "      <td>6.000000</td>\n",
       "      <td>2011-07-31 12:05:00</td>\n",
       "      <td>1.950000</td>\n",
       "      <td>15157.000000</td>\n",
       "      <td>11.900000</td>\n",
       "    </tr>\n",
       "    <tr>\n",
       "      <th>75%</th>\n",
       "      <td>572062.000000</td>\n",
       "      <td>12.000000</td>\n",
       "      <td>2011-10-20 12:57:00</td>\n",
       "      <td>3.750000</td>\n",
       "      <td>16794.000000</td>\n",
       "      <td>19.800000</td>\n",
       "    </tr>\n",
       "    <tr>\n",
       "      <th>max</th>\n",
       "      <td>581587.000000</td>\n",
       "      <td>80995.000000</td>\n",
       "      <td>2011-12-09 12:50:00</td>\n",
       "      <td>649.500000</td>\n",
       "      <td>18287.000000</td>\n",
       "      <td>168469.600000</td>\n",
       "    </tr>\n",
       "    <tr>\n",
       "      <th>std</th>\n",
       "      <td>13087.072942</td>\n",
       "      <td>181.875931</td>\n",
       "      <td>NaN</td>\n",
       "      <td>4.375171</td>\n",
       "      <td>1710.157059</td>\n",
       "      <td>311.333932</td>\n",
       "    </tr>\n",
       "  </tbody>\n",
       "</table>\n",
       "</div>"
      ],
      "text/plain": [
       "          invoice no       quantity                   invoice date  \\\n",
       "count  391319.000000  391319.000000                         391319   \n",
       "mean   560592.879260      13.175432  2011-07-10 19:37:34.518027264   \n",
       "min    536365.000000       1.000000            2010-12-01 08:26:00   \n",
       "25%    549235.000000       2.000000            2011-04-07 11:16:00   \n",
       "50%    561875.000000       6.000000            2011-07-31 12:05:00   \n",
       "75%    572062.000000      12.000000            2011-10-20 12:57:00   \n",
       "max    581587.000000   80995.000000            2011-12-09 12:50:00   \n",
       "std     13087.072942     181.875931                            NaN   \n",
       "\n",
       "          unit price    customer ID    total price  \n",
       "count  391319.000000  391319.000000  391319.000000  \n",
       "mean        2.890469   15294.850201      22.379209  \n",
       "min         0.001000   12346.000000       0.001000  \n",
       "25%         1.250000   13969.000000       4.950000  \n",
       "50%         1.950000   15157.000000      11.900000  \n",
       "75%         3.750000   16794.000000      19.800000  \n",
       "max       649.500000   18287.000000  168469.600000  \n",
       "std         4.375171    1710.157059     311.333932  "
      ]
     },
     "execution_count": 12,
     "metadata": {},
     "output_type": "execute_result"
    }
   ],
   "source": [
    "df.describe()"
   ]
  },
  {
   "cell_type": "markdown",
   "metadata": {},
   "source": [
    "# conclusion on \"Unit Price\""
   ]
  },
  {
   "cell_type": "markdown",
   "metadata": {},
   "source": [
    "In the unit price column, 75% of the products prices are less than 3.75 pounds, and the max value is 650. which infers that there are very few products with higher price range and 75% of product price are below 3.75, which means the store is selling products with lower unit price!"
   ]
  },
  {
   "cell_type": "markdown",
   "metadata": {},
   "source": [
    "# Conclusion on \"Quantity\""
   ]
  },
  {
   "cell_type": "markdown",
   "metadata": {},
   "source": [
    "Simillary in the quantity column we see that the 75% of the ordered quantity are < 12 pcs and the max is around 81000,and the is a large difference b/w the mean and standard deviation, which means there where some dulk orders here and there!"
   ]
  },
  {
   "cell_type": "code",
   "execution_count": 13,
   "metadata": {},
   "outputs": [
    {
     "data": {
      "text/html": [
       "<div>\n",
       "<style scoped>\n",
       "    .dataframe tbody tr th:only-of-type {\n",
       "        vertical-align: middle;\n",
       "    }\n",
       "\n",
       "    .dataframe tbody tr th {\n",
       "        vertical-align: top;\n",
       "    }\n",
       "\n",
       "    .dataframe thead th {\n",
       "        text-align: right;\n",
       "    }\n",
       "</style>\n",
       "<table border=\"1\" class=\"dataframe\">\n",
       "  <thead>\n",
       "    <tr style=\"text-align: right;\">\n",
       "      <th></th>\n",
       "      <th>stock code</th>\n",
       "      <th>description</th>\n",
       "      <th>country</th>\n",
       "    </tr>\n",
       "  </thead>\n",
       "  <tbody>\n",
       "    <tr>\n",
       "      <th>count</th>\n",
       "      <td>391319</td>\n",
       "      <td>391319</td>\n",
       "      <td>391319</td>\n",
       "    </tr>\n",
       "    <tr>\n",
       "      <th>unique</th>\n",
       "      <td>3661</td>\n",
       "      <td>3873</td>\n",
       "      <td>36</td>\n",
       "    </tr>\n",
       "    <tr>\n",
       "      <th>top</th>\n",
       "      <td>85123A</td>\n",
       "      <td>WHITE HANGING HEART T-LIGHT HOLDER</td>\n",
       "      <td>United Kingdom</td>\n",
       "    </tr>\n",
       "    <tr>\n",
       "      <th>freq</th>\n",
       "      <td>2023</td>\n",
       "      <td>2016</td>\n",
       "      <td>349167</td>\n",
       "    </tr>\n",
       "  </tbody>\n",
       "</table>\n",
       "</div>"
      ],
      "text/plain": [
       "       stock code                         description         country\n",
       "count      391319                              391319          391319\n",
       "unique       3661                                3873              36\n",
       "top        85123A  WHITE HANGING HEART T-LIGHT HOLDER  United Kingdom\n",
       "freq         2023                                2016          349167"
      ]
     },
     "execution_count": 13,
     "metadata": {},
     "output_type": "execute_result"
    }
   ],
   "source": [
    "df.describe(include= 'object')"
   ]
  },
  {
   "cell_type": "markdown",
   "metadata": {},
   "source": [
    "We have 36 countries in our Data"
   ]
  },
  {
   "cell_type": "markdown",
   "metadata": {},
   "source": [
    "we see that most of the orders are from the UK!"
   ]
  },
  {
   "cell_type": "markdown",
   "metadata": {},
   "source": [
    "This shop in UK can have >= 3873 Products to its catalogue!"
   ]
  },
  {
   "cell_type": "markdown",
   "metadata": {},
   "source": [
    "# list of countries"
   ]
  },
  {
   "cell_type": "code",
   "execution_count": 14,
   "metadata": {},
   "outputs": [
    {
     "data": {
      "text/plain": [
       "array(['United Kingdom', 'France', 'Australia', 'Netherlands', 'Germany',\n",
       "       'Norway', 'Ireland', 'Switzerland', 'Spain', 'Poland', 'Portugal',\n",
       "       'Italy', 'Belgium', 'Lithuania', 'Japan', 'Iceland',\n",
       "       'Channel Islands', 'Denmark', 'Cyprus', 'Sweden', 'Finland',\n",
       "       'Austria', 'Greece', 'Singapore', 'Lebanon',\n",
       "       'United Arab Emirates', 'Israel', 'Saudi Arabia', 'Czech Republic',\n",
       "       'Canada', 'Brazil', 'USA', 'European Community', 'Bahrain',\n",
       "       'Malta', 'RSA'], dtype=object)"
      ]
     },
     "execution_count": 14,
     "metadata": {},
     "output_type": "execute_result"
    }
   ],
   "source": [
    "df[\"country\"].unique()"
   ]
  },
  {
   "cell_type": "markdown",
   "metadata": {},
   "source": [
    "# 2. Time Based Analysis"
   ]
  },
  {
   "cell_type": "markdown",
   "metadata": {},
   "source": [
    "Let's do some analysis on sales data over a few duration "
   ]
  },
  {
   "cell_type": "code",
   "execution_count": 15,
   "metadata": {},
   "outputs": [
    {
     "data": {
      "text/plain": [
       "<AxesSubplot:title={'center':'Monthly sales Trend'}, xlabel='Month', ylabel='Products sold'>"
      ]
     },
     "execution_count": 15,
     "metadata": {},
     "output_type": "execute_result"
    },
    {
     "data": {
      "image/png": "[encoded data removed]",
      "text/plain": [
       "<Figure size 640x480 with 1 Axes>"
      ]
     },
     "metadata": {},
     "output_type": "display_data"
    }
   ],
   "source": [
    "monthly_sales= df.resample(\"M\",on=\"invoice date\")[\"quantity\"].sum()\n",
    "monthly_sales.plot(kind=\"line\",xlabel=\"Month\",ylabel=\"Products sold\",title=\"Monthly sales Trend\")"
   ]
  },
  {
   "cell_type": "markdown",
   "metadata": {},
   "source": [
    "we see that the sales are increasing MOM, now lets check on a QOQ basis."
   ]
  },
  {
   "cell_type": "code",
   "execution_count": 16,
   "metadata": {},
   "outputs": [
    {
     "data": {
      "text/plain": [
       "<AxesSubplot:title={'center':'Quaterly sales Trend'}, xlabel='Quater', ylabel='Products sold'>"
      ]
     },
     "execution_count": 16,
     "metadata": {},
     "output_type": "execute_result"
    },
    {
     "data": {
      "image/png": "[encoded data removed]",
      "text/plain": [
       "<Figure size 640x480 with 1 Axes>"
      ]
     },
     "metadata": {},
     "output_type": "display_data"
    }
   ],
   "source": [
    "quaterly_sales= df.resample(\"Q\",on=\"invoice date\")[\"quantity\"].sum()\n",
    "quaterly_sales.plot(kind=\"line\",xlabel=\"Quater\",ylabel=\"Products sold\",title=\"Quaterly sales Trend\")"
   ]
  },
  {
   "cell_type": "markdown",
   "metadata": {},
   "source": [
    "We see a QOQ improvement in sales! which is good for the company :)"
   ]
  },
  {
   "cell_type": "markdown",
   "metadata": {},
   "source": [
    "# How is the order trend ?"
   ]
  },
  {
   "cell_type": "code",
   "execution_count": 17,
   "metadata": {},
   "outputs": [
    {
     "data": {
      "text/plain": [
       "<AxesSubplot:title={'center':'Quaterly Order Trend'}, xlabel='Month', ylabel='Toatal Order'>"
      ]
     },
     "execution_count": 17,
     "metadata": {},
     "output_type": "execute_result"
    },
    {
     "data": {
      "image/png": "[encoded data removed]",
      "text/plain": [
       "<Figure size 640x480 with 1 Axes>"
      ]
     },
     "metadata": {},
     "output_type": "display_data"
    }
   ],
   "source": [
    "order_trend= df.resample(\"M\",on=\"invoice date\")[\"invoice no\"].nunique()\n",
    "order_trend.plot(kind=\"line\",xlabel=\"Month\",ylabel=\"Toatal Order\",title=\"Quaterly Order Trend\")"
   ]
  },
  {
   "cell_type": "code",
   "execution_count": 18,
   "metadata": {},
   "outputs": [
    {
     "data": {
      "text/plain": [
       "<AxesSubplot:title={'center':'Quaterly Order Trend'}, xlabel='Quater', ylabel=' Toatl Order'>"
      ]
     },
     "execution_count": 18,
     "metadata": {},
     "output_type": "execute_result"
    },
    {
     "data": {
      "image/png": "[encoded data removed]",
      "text/plain": [
       "<Figure size 640x480 with 1 Axes>"
      ]
     },
     "metadata": {},
     "output_type": "display_data"
    }
   ],
   "source": [
    "order_trend= df.resample(\"Q\",on=\"invoice date\")[\"invoice no\"].nunique()\n",
    "order_trend.plot(kind=\"line\",xlabel=\"Quater\",ylabel=\" Toatl Order\",title=\"Quaterly Order Trend\")\n"
   ]
  },
  {
   "cell_type": "markdown",
   "metadata": {},
   "source": [
    "The order quantites have been improving QOQ which is a good sign for the company"
   ]
  },
  {
   "cell_type": "markdown",
   "metadata": {},
   "source": [
    "# what is the MAX order value ?\n"
   ]
  },
  {
   "cell_type": "code",
   "execution_count": 19,
   "metadata": {},
   "outputs": [
    {
     "data": {
      "text/html": [
       "<div>\n",
       "<style scoped>\n",
       "    .dataframe tbody tr th:only-of-type {\n",
       "        vertical-align: middle;\n",
       "    }\n",
       "\n",
       "    .dataframe tbody tr th {\n",
       "        vertical-align: top;\n",
       "    }\n",
       "\n",
       "    .dataframe thead th {\n",
       "        text-align: right;\n",
       "    }\n",
       "</style>\n",
       "<table border=\"1\" class=\"dataframe\">\n",
       "  <thead>\n",
       "    <tr style=\"text-align: right;\">\n",
       "      <th></th>\n",
       "      <th>invoice no</th>\n",
       "      <th>order price</th>\n",
       "    </tr>\n",
       "  </thead>\n",
       "  <tbody>\n",
       "    <tr>\n",
       "      <th>17399</th>\n",
       "      <td>579196</td>\n",
       "      <td>2402.75</td>\n",
       "    </tr>\n",
       "    <tr>\n",
       "      <th>18038</th>\n",
       "      <td>580727</td>\n",
       "      <td>2382.28</td>\n",
       "    </tr>\n",
       "    <tr>\n",
       "      <th>16123</th>\n",
       "      <td>576339</td>\n",
       "      <td>2301.94</td>\n",
       "    </tr>\n",
       "    <tr>\n",
       "      <th>17005</th>\n",
       "      <td>578270</td>\n",
       "      <td>1915.84</td>\n",
       "    </tr>\n",
       "    <tr>\n",
       "      <th>14971</th>\n",
       "      <td>573576</td>\n",
       "      <td>1751.26</td>\n",
       "    </tr>\n",
       "    <tr>\n",
       "      <th>12434</th>\n",
       "      <td>567656</td>\n",
       "      <td>1712.48</td>\n",
       "    </tr>\n",
       "    <tr>\n",
       "      <th>15780</th>\n",
       "      <td>575607</td>\n",
       "      <td>1533.72</td>\n",
       "    </tr>\n",
       "  </tbody>\n",
       "</table>\n",
       "</div>"
      ],
      "text/plain": [
       "       invoice no  order price\n",
       "17399      579196      2402.75\n",
       "18038      580727      2382.28\n",
       "16123      576339      2301.94\n",
       "17005      578270      1915.84\n",
       "14971      573576      1751.26\n",
       "12434      567656      1712.48\n",
       "15780      575607      1533.72"
      ]
     },
     "execution_count": 19,
     "metadata": {},
     "output_type": "execute_result"
    }
   ],
   "source": [
    "max_order_value= df.groupby(df[\"invoice no\"])[\"unit price\"].sum().reset_index()\n",
    "max_order_value.columns= [\"invoice no\",\"order price\"]\n",
    "max_order_value.sort_values(\"order price\",ascending= False).head(7)"
   ]
  },
  {
   "cell_type": "markdown",
   "metadata": {},
   "source": [
    "We see that the max order value is 2402.75 pounds"
   ]
  },
  {
   "cell_type": "code",
   "execution_count": 20,
   "metadata": {},
   "outputs": [
    {
     "data": {
      "text/html": [
       "<div>\n",
       "<style scoped>\n",
       "    .dataframe tbody tr th:only-of-type {\n",
       "        vertical-align: middle;\n",
       "    }\n",
       "\n",
       "    .dataframe tbody tr th {\n",
       "        vertical-align: top;\n",
       "    }\n",
       "\n",
       "    .dataframe thead th {\n",
       "        text-align: right;\n",
       "    }\n",
       "</style>\n",
       "<table border=\"1\" class=\"dataframe\">\n",
       "  <thead>\n",
       "    <tr style=\"text-align: right;\">\n",
       "      <th></th>\n",
       "      <th>invoice no</th>\n",
       "      <th>order price</th>\n",
       "    </tr>\n",
       "  </thead>\n",
       "  <tbody>\n",
       "    <tr>\n",
       "      <th>count</th>\n",
       "      <td>18408.000000</td>\n",
       "      <td>18408.000000</td>\n",
       "    </tr>\n",
       "    <tr>\n",
       "      <th>mean</th>\n",
       "      <td>559515.424489</td>\n",
       "      <td>61.445854</td>\n",
       "    </tr>\n",
       "    <tr>\n",
       "      <th>std</th>\n",
       "      <td>13048.147734</td>\n",
       "      <td>77.944153</td>\n",
       "    </tr>\n",
       "    <tr>\n",
       "      <th>min</th>\n",
       "      <td>536365.000000</td>\n",
       "      <td>0.040000</td>\n",
       "    </tr>\n",
       "    <tr>\n",
       "      <th>25%</th>\n",
       "      <td>548332.750000</td>\n",
       "      <td>17.700000</td>\n",
       "    </tr>\n",
       "    <tr>\n",
       "      <th>50%</th>\n",
       "      <td>559794.500000</td>\n",
       "      <td>42.500000</td>\n",
       "    </tr>\n",
       "    <tr>\n",
       "      <th>75%</th>\n",
       "      <td>570829.250000</td>\n",
       "      <td>80.942500</td>\n",
       "    </tr>\n",
       "    <tr>\n",
       "      <th>max</th>\n",
       "      <td>581587.000000</td>\n",
       "      <td>2402.750000</td>\n",
       "    </tr>\n",
       "  </tbody>\n",
       "</table>\n",
       "</div>"
      ],
      "text/plain": [
       "          invoice no   order price\n",
       "count   18408.000000  18408.000000\n",
       "mean   559515.424489     61.445854\n",
       "std     13048.147734     77.944153\n",
       "min    536365.000000      0.040000\n",
       "25%    548332.750000     17.700000\n",
       "50%    559794.500000     42.500000\n",
       "75%    570829.250000     80.942500\n",
       "max    581587.000000   2402.750000"
      ]
     },
     "execution_count": 20,
     "metadata": {},
     "output_type": "execute_result"
    }
   ],
   "source": [
    "max_order_value.describe()"
   ]
  },
  {
   "cell_type": "markdown",
   "metadata": {},
   "source": [
    "# 3. Product Analysis"
   ]
  },
  {
   "cell_type": "code",
   "execution_count": 21,
   "metadata": {},
   "outputs": [
    {
     "data": {
      "text/plain": [
       "count                                 391319\n",
       "unique                                  3873\n",
       "top       WHITE HANGING HEART T-LIGHT HOLDER\n",
       "freq                                    2016\n",
       "Name: description, dtype: object"
      ]
     },
     "execution_count": 21,
     "metadata": {},
     "output_type": "execute_result"
    }
   ],
   "source": [
    "df[\"description\"].describe()"
   ]
  },
  {
   "cell_type": "markdown",
   "metadata": {},
   "source": [
    "Most occuring or the most ordered product is \"WHITE HANGING HEART T-LIGHT HOLDER\", which occured 2016 times!"
   ]
  },
  {
   "cell_type": "markdown",
   "metadata": {},
   "source": [
    "As said, there is around 3873 products in this dataset"
   ]
  },
  {
   "cell_type": "markdown",
   "metadata": {},
   "source": [
    "# What is the costliest product ?"
   ]
  },
  {
   "cell_type": "code",
   "execution_count": 22,
   "metadata": {},
   "outputs": [
    {
     "data": {
      "text/html": [
       "<div>\n",
       "<style scoped>\n",
       "    .dataframe tbody tr th:only-of-type {\n",
       "        vertical-align: middle;\n",
       "    }\n",
       "\n",
       "    .dataframe tbody tr th {\n",
       "        vertical-align: top;\n",
       "    }\n",
       "\n",
       "    .dataframe thead th {\n",
       "        text-align: right;\n",
       "    }\n",
       "</style>\n",
       "<table border=\"1\" class=\"dataframe\">\n",
       "  <thead>\n",
       "    <tr style=\"text-align: right;\">\n",
       "      <th></th>\n",
       "      <th>invoice no</th>\n",
       "      <th>stock code</th>\n",
       "      <th>description</th>\n",
       "      <th>quantity</th>\n",
       "      <th>invoice date</th>\n",
       "      <th>unit price</th>\n",
       "      <th>customer ID</th>\n",
       "      <th>country</th>\n",
       "      <th>total price</th>\n",
       "    </tr>\n",
       "  </thead>\n",
       "  <tbody>\n",
       "    <tr>\n",
       "      <th>154835</th>\n",
       "      <td>556444</td>\n",
       "      <td>22502</td>\n",
       "      <td>PICNIC BASKET WICKER 60 PIECES</td>\n",
       "      <td>60</td>\n",
       "      <td>2011-06-10 15:28:00</td>\n",
       "      <td>649.5</td>\n",
       "      <td>15098</td>\n",
       "      <td>United Kingdom</td>\n",
       "      <td>38970.0</td>\n",
       "    </tr>\n",
       "    <tr>\n",
       "      <th>154840</th>\n",
       "      <td>556446</td>\n",
       "      <td>22502</td>\n",
       "      <td>PICNIC BASKET WICKER 60 PIECES</td>\n",
       "      <td>1</td>\n",
       "      <td>2011-06-10 15:33:00</td>\n",
       "      <td>649.5</td>\n",
       "      <td>15098</td>\n",
       "      <td>United Kingdom</td>\n",
       "      <td>649.5</td>\n",
       "    </tr>\n",
       "    <tr>\n",
       "      <th>31889</th>\n",
       "      <td>540647</td>\n",
       "      <td>22655</td>\n",
       "      <td>VINTAGE RED KITCHEN CABINET</td>\n",
       "      <td>1</td>\n",
       "      <td>2011-01-10 14:57:00</td>\n",
       "      <td>295.0</td>\n",
       "      <td>17406</td>\n",
       "      <td>United Kingdom</td>\n",
       "      <td>295.0</td>\n",
       "    </tr>\n",
       "    <tr>\n",
       "      <th>3708</th>\n",
       "      <td>536835</td>\n",
       "      <td>22655</td>\n",
       "      <td>VINTAGE RED KITCHEN CABINET</td>\n",
       "      <td>1</td>\n",
       "      <td>2010-12-02 18:06:00</td>\n",
       "      <td>295.0</td>\n",
       "      <td>13145</td>\n",
       "      <td>United Kingdom</td>\n",
       "      <td>295.0</td>\n",
       "    </tr>\n",
       "    <tr>\n",
       "      <th>142395</th>\n",
       "      <td>554836</td>\n",
       "      <td>22655</td>\n",
       "      <td>VINTAGE RED KITCHEN CABINET</td>\n",
       "      <td>1</td>\n",
       "      <td>2011-05-26 16:25:00</td>\n",
       "      <td>295.0</td>\n",
       "      <td>13015</td>\n",
       "      <td>United Kingdom</td>\n",
       "      <td>295.0</td>\n",
       "    </tr>\n",
       "  </tbody>\n",
       "</table>\n",
       "</div>"
      ],
      "text/plain": [
       "        invoice no stock code                     description  quantity  \\\n",
       "154835      556444      22502  PICNIC BASKET WICKER 60 PIECES        60   \n",
       "154840      556446      22502  PICNIC BASKET WICKER 60 PIECES         1   \n",
       "31889       540647      22655     VINTAGE RED KITCHEN CABINET         1   \n",
       "3708        536835      22655     VINTAGE RED KITCHEN CABINET         1   \n",
       "142395      554836      22655     VINTAGE RED KITCHEN CABINET         1   \n",
       "\n",
       "              invoice date  unit price  customer ID         country  \\\n",
       "154835 2011-06-10 15:28:00       649.5        15098  United Kingdom   \n",
       "154840 2011-06-10 15:33:00       649.5        15098  United Kingdom   \n",
       "31889  2011-01-10 14:57:00       295.0        17406  United Kingdom   \n",
       "3708   2010-12-02 18:06:00       295.0        13145  United Kingdom   \n",
       "142395 2011-05-26 16:25:00       295.0        13015  United Kingdom   \n",
       "\n",
       "        total price  \n",
       "154835      38970.0  \n",
       "154840        649.5  \n",
       "31889         295.0  \n",
       "3708          295.0  \n",
       "142395        295.0  "
      ]
     },
     "execution_count": 22,
     "metadata": {},
     "output_type": "execute_result"
    }
   ],
   "source": [
    "costliest_product = df.sort_values(\"unit price\",ascending= False)\n",
    "costliest_product.head(5)"
   ]
  },
  {
   "cell_type": "markdown",
   "metadata": {},
   "source": [
    " \"PICNIC BASKET WICKER 60 PIECES\" is the costliest product in this catelogue!\n"
   ]
  },
  {
   "cell_type": "markdown",
   "metadata": {},
   "source": [
    "# What is the most ordererd product and its revenue?"
   ]
  },
  {
   "cell_type": "code",
   "execution_count": 23,
   "metadata": {},
   "outputs": [
    {
     "data": {
      "text/html": [
       "<div>\n",
       "<style scoped>\n",
       "    .dataframe tbody tr th:only-of-type {\n",
       "        vertical-align: middle;\n",
       "    }\n",
       "\n",
       "    .dataframe tbody tr th {\n",
       "        vertical-align: top;\n",
       "    }\n",
       "\n",
       "    .dataframe thead th {\n",
       "        text-align: right;\n",
       "    }\n",
       "</style>\n",
       "<table border=\"1\" class=\"dataframe\">\n",
       "  <thead>\n",
       "    <tr style=\"text-align: right;\">\n",
       "      <th></th>\n",
       "      <th>Product Name</th>\n",
       "      <th>Total Order Quantity</th>\n",
       "      <th>Order Value</th>\n",
       "    </tr>\n",
       "  </thead>\n",
       "  <tbody>\n",
       "    <tr>\n",
       "      <th>0</th>\n",
       "      <td>PAPER CRAFT , LITTLE BIRDIE</td>\n",
       "      <td>80995</td>\n",
       "      <td>168469.60</td>\n",
       "    </tr>\n",
       "    <tr>\n",
       "      <th>1</th>\n",
       "      <td>MEDIUM CERAMIC TOP STORAGE JAR</td>\n",
       "      <td>77916</td>\n",
       "      <td>81416.73</td>\n",
       "    </tr>\n",
       "    <tr>\n",
       "      <th>2</th>\n",
       "      <td>WORLD WAR 2 GLIDERS ASSTD DESIGNS</td>\n",
       "      <td>54319</td>\n",
       "      <td>13558.41</td>\n",
       "    </tr>\n",
       "    <tr>\n",
       "      <th>3</th>\n",
       "      <td>JUMBO BAG RED RETROSPOT</td>\n",
       "      <td>46078</td>\n",
       "      <td>85040.54</td>\n",
       "    </tr>\n",
       "    <tr>\n",
       "      <th>4</th>\n",
       "      <td>WHITE HANGING HEART T-LIGHT HOLDER</td>\n",
       "      <td>36706</td>\n",
       "      <td>100392.10</td>\n",
       "    </tr>\n",
       "    <tr>\n",
       "      <th>5</th>\n",
       "      <td>ASSORTED COLOUR BIRD ORNAMENT</td>\n",
       "      <td>35263</td>\n",
       "      <td>56413.03</td>\n",
       "    </tr>\n",
       "    <tr>\n",
       "      <th>6</th>\n",
       "      <td>PACK OF 72 RETROSPOT CAKE CASES</td>\n",
       "      <td>33670</td>\n",
       "      <td>16381.88</td>\n",
       "    </tr>\n",
       "    <tr>\n",
       "      <th>7</th>\n",
       "      <td>POPCORN HOLDER</td>\n",
       "      <td>30919</td>\n",
       "      <td>23417.51</td>\n",
       "    </tr>\n",
       "    <tr>\n",
       "      <th>8</th>\n",
       "      <td>RABBIT NIGHT LIGHT</td>\n",
       "      <td>27153</td>\n",
       "      <td>51251.24</td>\n",
       "    </tr>\n",
       "    <tr>\n",
       "      <th>9</th>\n",
       "      <td>MINI PAINT SET VINTAGE</td>\n",
       "      <td>26076</td>\n",
       "      <td>16039.24</td>\n",
       "    </tr>\n",
       "  </tbody>\n",
       "</table>\n",
       "</div>"
      ],
      "text/plain": [
       "                         Product Name  Total Order Quantity  Order Value\n",
       "0         PAPER CRAFT , LITTLE BIRDIE                 80995    168469.60\n",
       "1      MEDIUM CERAMIC TOP STORAGE JAR                 77916     81416.73\n",
       "2   WORLD WAR 2 GLIDERS ASSTD DESIGNS                 54319     13558.41\n",
       "3             JUMBO BAG RED RETROSPOT                 46078     85040.54\n",
       "4  WHITE HANGING HEART T-LIGHT HOLDER                 36706    100392.10\n",
       "5       ASSORTED COLOUR BIRD ORNAMENT                 35263     56413.03\n",
       "6     PACK OF 72 RETROSPOT CAKE CASES                 33670     16381.88\n",
       "7                      POPCORN HOLDER                 30919     23417.51\n",
       "8                  RABBIT NIGHT LIGHT                 27153     51251.24\n",
       "9             MINI PAINT SET VINTAGE                  26076     16039.24"
      ]
     },
     "execution_count": 23,
     "metadata": {},
     "output_type": "execute_result"
    }
   ],
   "source": [
    "most_ordered_product= df.groupby(df[\"description\"])[[\"quantity\",\"total price\"]].sum()\n",
    "most_ordered_product = most_ordered_product.sort_values([\"quantity\",\"total price\"],ascending= False).reset_index()\n",
    "most_ordered_product.columns=[\"Product Name\",\"Total Order Quantity\",\"Order Value\"]\n",
    "most_ordered_product.head(10)"
   ]
  },
  {
   "cell_type": "markdown",
   "metadata": {},
   "source": [
    "We see that the \"PAPER CRAFT , LITTLE BIRDIE\" \thas been the most ordered product with a order value of 168469.60 pounds!"
   ]
  },
  {
   "cell_type": "markdown",
   "metadata": {},
   "source": [
    "Now let see how this \"PAPER CRAFT , LITTLE BIRDIE\" has been order in the given timeframe!"
   ]
  },
  {
   "cell_type": "code",
   "execution_count": 24,
   "metadata": {},
   "outputs": [
    {
     "data": {
      "text/html": [
       "<div>\n",
       "<style scoped>\n",
       "    .dataframe tbody tr th:only-of-type {\n",
       "        vertical-align: middle;\n",
       "    }\n",
       "\n",
       "    .dataframe tbody tr th {\n",
       "        vertical-align: top;\n",
       "    }\n",
       "\n",
       "    .dataframe thead th {\n",
       "        text-align: right;\n",
       "    }\n",
       "</style>\n",
       "<table border=\"1\" class=\"dataframe\">\n",
       "  <thead>\n",
       "    <tr style=\"text-align: right;\">\n",
       "      <th></th>\n",
       "      <th>invoice no</th>\n",
       "      <th>stock code</th>\n",
       "      <th>description</th>\n",
       "      <th>quantity</th>\n",
       "      <th>invoice date</th>\n",
       "      <th>unit price</th>\n",
       "      <th>customer ID</th>\n",
       "      <th>country</th>\n",
       "      <th>total price</th>\n",
       "    </tr>\n",
       "  </thead>\n",
       "  <tbody>\n",
       "    <tr>\n",
       "      <th>396039</th>\n",
       "      <td>581483</td>\n",
       "      <td>23843</td>\n",
       "      <td>PAPER CRAFT , LITTLE BIRDIE</td>\n",
       "      <td>80995</td>\n",
       "      <td>2011-12-09 09:15:00</td>\n",
       "      <td>2.08</td>\n",
       "      <td>16446</td>\n",
       "      <td>United Kingdom</td>\n",
       "      <td>168469.6</td>\n",
       "    </tr>\n",
       "  </tbody>\n",
       "</table>\n",
       "</div>"
      ],
      "text/plain": [
       "        invoice no stock code                  description  quantity  \\\n",
       "396039      581483      23843  PAPER CRAFT , LITTLE BIRDIE     80995   \n",
       "\n",
       "              invoice date  unit price  customer ID         country  \\\n",
       "396039 2011-12-09 09:15:00        2.08        16446  United Kingdom   \n",
       "\n",
       "        total price  \n",
       "396039     168469.6  "
      ]
     },
     "execution_count": 24,
     "metadata": {},
     "output_type": "execute_result"
    }
   ],
   "source": [
    "df[df[\"description\"].str.startswith(\"PAPER CRAFT , LITTLE BIRDIE\")]"
   ]
  },
  {
   "cell_type": "markdown",
   "metadata": {},
   "source": [
    "Its feels shocking that \"PAPER CRAFT , LITTLE BIRDIE\" has been ordered only once on a bulk deal :O)"
   ]
  },
  {
   "cell_type": "markdown",
   "metadata": {},
   "source": [
    "Let's check on the next product \"MEDIUM CERAMIC TOP STORAGE JAR\""
   ]
  },
  {
   "cell_type": "code",
   "execution_count": 25,
   "metadata": {},
   "outputs": [
    {
     "data": {
      "text/html": [
       "<div>\n",
       "<style scoped>\n",
       "    .dataframe tbody tr th:only-of-type {\n",
       "        vertical-align: middle;\n",
       "    }\n",
       "\n",
       "    .dataframe tbody tr th {\n",
       "        vertical-align: top;\n",
       "    }\n",
       "\n",
       "    .dataframe thead th {\n",
       "        text-align: right;\n",
       "    }\n",
       "</style>\n",
       "<table border=\"1\" class=\"dataframe\">\n",
       "  <thead>\n",
       "    <tr style=\"text-align: right;\">\n",
       "      <th></th>\n",
       "      <th>invoice no</th>\n",
       "      <th>stock code</th>\n",
       "      <th>description</th>\n",
       "      <th>quantity</th>\n",
       "      <th>invoice date</th>\n",
       "      <th>unit price</th>\n",
       "      <th>customer ID</th>\n",
       "      <th>country</th>\n",
       "      <th>total price</th>\n",
       "    </tr>\n",
       "  </thead>\n",
       "  <tbody>\n",
       "    <tr>\n",
       "      <th>36990</th>\n",
       "      <td>541431</td>\n",
       "      <td>23166</td>\n",
       "      <td>MEDIUM CERAMIC TOP STORAGE JAR</td>\n",
       "      <td>74215</td>\n",
       "      <td>2011-01-18 10:01:00</td>\n",
       "      <td>1.04</td>\n",
       "      <td>12346</td>\n",
       "      <td>United Kingdom</td>\n",
       "      <td>77183.60</td>\n",
       "    </tr>\n",
       "    <tr>\n",
       "      <th>127331</th>\n",
       "      <td>552882</td>\n",
       "      <td>23166</td>\n",
       "      <td>MEDIUM CERAMIC TOP STORAGE JAR</td>\n",
       "      <td>96</td>\n",
       "      <td>2011-05-12 10:10:00</td>\n",
       "      <td>1.04</td>\n",
       "      <td>14646</td>\n",
       "      <td>Netherlands</td>\n",
       "      <td>99.84</td>\n",
       "    </tr>\n",
       "    <tr>\n",
       "      <th>127759</th>\n",
       "      <td>552953</td>\n",
       "      <td>23166</td>\n",
       "      <td>MEDIUM CERAMIC TOP STORAGE JAR</td>\n",
       "      <td>4</td>\n",
       "      <td>2011-05-12 12:11:00</td>\n",
       "      <td>1.25</td>\n",
       "      <td>16745</td>\n",
       "      <td>United Kingdom</td>\n",
       "      <td>5.00</td>\n",
       "    </tr>\n",
       "    <tr>\n",
       "      <th>128282</th>\n",
       "      <td>553005</td>\n",
       "      <td>23166</td>\n",
       "      <td>MEDIUM CERAMIC TOP STORAGE JAR</td>\n",
       "      <td>5</td>\n",
       "      <td>2011-05-12 16:29:00</td>\n",
       "      <td>1.25</td>\n",
       "      <td>14651</td>\n",
       "      <td>United Kingdom</td>\n",
       "      <td>6.25</td>\n",
       "    </tr>\n",
       "    <tr>\n",
       "      <th>128406</th>\n",
       "      <td>553009</td>\n",
       "      <td>23166</td>\n",
       "      <td>MEDIUM CERAMIC TOP STORAGE JAR</td>\n",
       "      <td>3</td>\n",
       "      <td>2011-05-12 16:52:00</td>\n",
       "      <td>1.25</td>\n",
       "      <td>13601</td>\n",
       "      <td>United Kingdom</td>\n",
       "      <td>3.75</td>\n",
       "    </tr>\n",
       "    <tr>\n",
       "      <th>...</th>\n",
       "      <td>...</td>\n",
       "      <td>...</td>\n",
       "      <td>...</td>\n",
       "      <td>...</td>\n",
       "      <td>...</td>\n",
       "      <td>...</td>\n",
       "      <td>...</td>\n",
       "      <td>...</td>\n",
       "      <td>...</td>\n",
       "    </tr>\n",
       "    <tr>\n",
       "      <th>386940</th>\n",
       "      <td>580665</td>\n",
       "      <td>23166</td>\n",
       "      <td>MEDIUM CERAMIC TOP STORAGE JAR</td>\n",
       "      <td>96</td>\n",
       "      <td>2011-12-05 14:06:00</td>\n",
       "      <td>1.04</td>\n",
       "      <td>16684</td>\n",
       "      <td>United Kingdom</td>\n",
       "      <td>99.84</td>\n",
       "    </tr>\n",
       "    <tr>\n",
       "      <th>390493</th>\n",
       "      <td>580956</td>\n",
       "      <td>23166</td>\n",
       "      <td>MEDIUM CERAMIC TOP STORAGE JAR</td>\n",
       "      <td>1</td>\n",
       "      <td>2011-12-06 14:23:00</td>\n",
       "      <td>1.25</td>\n",
       "      <td>17841</td>\n",
       "      <td>United Kingdom</td>\n",
       "      <td>1.25</td>\n",
       "    </tr>\n",
       "    <tr>\n",
       "      <th>391114</th>\n",
       "      <td>580997</td>\n",
       "      <td>23166</td>\n",
       "      <td>MEDIUM CERAMIC TOP STORAGE JAR</td>\n",
       "      <td>4</td>\n",
       "      <td>2011-12-06 17:23:00</td>\n",
       "      <td>1.25</td>\n",
       "      <td>15023</td>\n",
       "      <td>United Kingdom</td>\n",
       "      <td>5.00</td>\n",
       "    </tr>\n",
       "    <tr>\n",
       "      <th>391828</th>\n",
       "      <td>581108</td>\n",
       "      <td>23166</td>\n",
       "      <td>MEDIUM CERAMIC TOP STORAGE JAR</td>\n",
       "      <td>2</td>\n",
       "      <td>2011-12-07 12:16:00</td>\n",
       "      <td>1.25</td>\n",
       "      <td>15984</td>\n",
       "      <td>United Kingdom</td>\n",
       "      <td>2.50</td>\n",
       "    </tr>\n",
       "    <tr>\n",
       "      <th>395941</th>\n",
       "      <td>581476</td>\n",
       "      <td>23166</td>\n",
       "      <td>MEDIUM CERAMIC TOP STORAGE JAR</td>\n",
       "      <td>48</td>\n",
       "      <td>2011-12-09 08:48:00</td>\n",
       "      <td>1.04</td>\n",
       "      <td>12433</td>\n",
       "      <td>Norway</td>\n",
       "      <td>49.92</td>\n",
       "    </tr>\n",
       "  </tbody>\n",
       "</table>\n",
       "<p>198 rows × 9 columns</p>\n",
       "</div>"
      ],
      "text/plain": [
       "        invoice no stock code                     description  quantity  \\\n",
       "36990       541431      23166  MEDIUM CERAMIC TOP STORAGE JAR     74215   \n",
       "127331      552882      23166  MEDIUM CERAMIC TOP STORAGE JAR        96   \n",
       "127759      552953      23166  MEDIUM CERAMIC TOP STORAGE JAR         4   \n",
       "128282      553005      23166  MEDIUM CERAMIC TOP STORAGE JAR         5   \n",
       "128406      553009      23166  MEDIUM CERAMIC TOP STORAGE JAR         3   \n",
       "...            ...        ...                             ...       ...   \n",
       "386940      580665      23166  MEDIUM CERAMIC TOP STORAGE JAR        96   \n",
       "390493      580956      23166  MEDIUM CERAMIC TOP STORAGE JAR         1   \n",
       "391114      580997      23166  MEDIUM CERAMIC TOP STORAGE JAR         4   \n",
       "391828      581108      23166  MEDIUM CERAMIC TOP STORAGE JAR         2   \n",
       "395941      581476      23166  MEDIUM CERAMIC TOP STORAGE JAR        48   \n",
       "\n",
       "              invoice date  unit price  customer ID         country  \\\n",
       "36990  2011-01-18 10:01:00        1.04        12346  United Kingdom   \n",
       "127331 2011-05-12 10:10:00        1.04        14646     Netherlands   \n",
       "127759 2011-05-12 12:11:00        1.25        16745  United Kingdom   \n",
       "128282 2011-05-12 16:29:00        1.25        14651  United Kingdom   \n",
       "128406 2011-05-12 16:52:00        1.25        13601  United Kingdom   \n",
       "...                    ...         ...          ...             ...   \n",
       "386940 2011-12-05 14:06:00        1.04        16684  United Kingdom   \n",
       "390493 2011-12-06 14:23:00        1.25        17841  United Kingdom   \n",
       "391114 2011-12-06 17:23:00        1.25        15023  United Kingdom   \n",
       "391828 2011-12-07 12:16:00        1.25        15984  United Kingdom   \n",
       "395941 2011-12-09 08:48:00        1.04        12433          Norway   \n",
       "\n",
       "        total price  \n",
       "36990      77183.60  \n",
       "127331        99.84  \n",
       "127759         5.00  \n",
       "128282         6.25  \n",
       "128406         3.75  \n",
       "...             ...  \n",
       "386940        99.84  \n",
       "390493         1.25  \n",
       "391114         5.00  \n",
       "391828         2.50  \n",
       "395941        49.92  \n",
       "\n",
       "[198 rows x 9 columns]"
      ]
     },
     "execution_count": 25,
     "metadata": {},
     "output_type": "execute_result"
    }
   ],
   "source": [
    "product_analysis =df[df[\"description\"].str.startswith(\"MEDIUM CERAMIC TOP STORAGE JAR\")]\n",
    "product_analysis"
   ]
  },
  {
   "cell_type": "code",
   "execution_count": 26,
   "metadata": {},
   "outputs": [
    {
     "data": {
      "text/html": [
       "<div>\n",
       "<style scoped>\n",
       "    .dataframe tbody tr th:only-of-type {\n",
       "        vertical-align: middle;\n",
       "    }\n",
       "\n",
       "    .dataframe tbody tr th {\n",
       "        vertical-align: top;\n",
       "    }\n",
       "\n",
       "    .dataframe thead th {\n",
       "        text-align: right;\n",
       "    }\n",
       "</style>\n",
       "<table border=\"1\" class=\"dataframe\">\n",
       "  <thead>\n",
       "    <tr style=\"text-align: right;\">\n",
       "      <th></th>\n",
       "      <th>invoice no</th>\n",
       "      <th>quantity</th>\n",
       "      <th>invoice date</th>\n",
       "      <th>unit price</th>\n",
       "      <th>customer ID</th>\n",
       "      <th>total price</th>\n",
       "    </tr>\n",
       "  </thead>\n",
       "  <tbody>\n",
       "    <tr>\n",
       "      <th>count</th>\n",
       "      <td>198.000000</td>\n",
       "      <td>198.000000</td>\n",
       "      <td>198</td>\n",
       "      <td>198.000000</td>\n",
       "      <td>198.000000</td>\n",
       "      <td>198.000000</td>\n",
       "    </tr>\n",
       "    <tr>\n",
       "      <th>mean</th>\n",
       "      <td>564793.974747</td>\n",
       "      <td>393.515152</td>\n",
       "      <td>2011-08-19 18:24:43.333333248</td>\n",
       "      <td>1.220303</td>\n",
       "      <td>15390.510101</td>\n",
       "      <td>411.195606</td>\n",
       "    </tr>\n",
       "    <tr>\n",
       "      <th>min</th>\n",
       "      <td>541431.000000</td>\n",
       "      <td>1.000000</td>\n",
       "      <td>2011-01-18 10:01:00</td>\n",
       "      <td>1.040000</td>\n",
       "      <td>12346.000000</td>\n",
       "      <td>1.250000</td>\n",
       "    </tr>\n",
       "    <tr>\n",
       "      <th>25%</th>\n",
       "      <td>556898.250000</td>\n",
       "      <td>4.000000</td>\n",
       "      <td>2011-06-15 13:01:45</td>\n",
       "      <td>1.250000</td>\n",
       "      <td>14096.000000</td>\n",
       "      <td>5.000000</td>\n",
       "    </tr>\n",
       "    <tr>\n",
       "      <th>50%</th>\n",
       "      <td>563613.500000</td>\n",
       "      <td>12.000000</td>\n",
       "      <td>2011-08-18 08:50:00</td>\n",
       "      <td>1.250000</td>\n",
       "      <td>15221.500000</td>\n",
       "      <td>15.000000</td>\n",
       "    </tr>\n",
       "    <tr>\n",
       "      <th>75%</th>\n",
       "      <td>571995.250000</td>\n",
       "      <td>12.000000</td>\n",
       "      <td>2011-10-20 06:17:00</td>\n",
       "      <td>1.250000</td>\n",
       "      <td>16804.500000</td>\n",
       "      <td>15.000000</td>\n",
       "    </tr>\n",
       "    <tr>\n",
       "      <th>max</th>\n",
       "      <td>581476.000000</td>\n",
       "      <td>74215.000000</td>\n",
       "      <td>2011-12-09 08:48:00</td>\n",
       "      <td>1.250000</td>\n",
       "      <td>18272.000000</td>\n",
       "      <td>77183.600000</td>\n",
       "    </tr>\n",
       "    <tr>\n",
       "      <th>std</th>\n",
       "      <td>8668.422665</td>\n",
       "      <td>5272.997869</td>\n",
       "      <td>NaN</td>\n",
       "      <td>0.073360</td>\n",
       "      <td>1704.877910</td>\n",
       "      <td>5483.795367</td>\n",
       "    </tr>\n",
       "  </tbody>\n",
       "</table>\n",
       "</div>"
      ],
      "text/plain": [
       "          invoice no      quantity                   invoice date  unit price  \\\n",
       "count     198.000000    198.000000                            198  198.000000   \n",
       "mean   564793.974747    393.515152  2011-08-19 18:24:43.333333248    1.220303   \n",
       "min    541431.000000      1.000000            2011-01-18 10:01:00    1.040000   \n",
       "25%    556898.250000      4.000000            2011-06-15 13:01:45    1.250000   \n",
       "50%    563613.500000     12.000000            2011-08-18 08:50:00    1.250000   \n",
       "75%    571995.250000     12.000000            2011-10-20 06:17:00    1.250000   \n",
       "max    581476.000000  74215.000000            2011-12-09 08:48:00    1.250000   \n",
       "std      8668.422665   5272.997869                            NaN    0.073360   \n",
       "\n",
       "        customer ID   total price  \n",
       "count    198.000000    198.000000  \n",
       "mean   15390.510101    411.195606  \n",
       "min    12346.000000      1.250000  \n",
       "25%    14096.000000      5.000000  \n",
       "50%    15221.500000     15.000000  \n",
       "75%    16804.500000     15.000000  \n",
       "max    18272.000000  77183.600000  \n",
       "std     1704.877910   5483.795367  "
      ]
     },
     "execution_count": 26,
     "metadata": {},
     "output_type": "execute_result"
    }
   ],
   "source": [
    "product_analysis.describe()"
   ]
  },
  {
   "cell_type": "code",
   "execution_count": 27,
   "metadata": {},
   "outputs": [
    {
     "data": {
      "image/png": "[encoded data removed]",
      "text/plain": [
       "<Figure size 640x480 with 1 Axes>"
      ]
     },
     "metadata": {},
     "output_type": "display_data"
    }
   ],
   "source": [
    "# Assigning Data points\n",
    "x= product_analysis[\"invoice date\"]\n",
    "y= product_analysis[\"quantity\"]\n",
    "\n",
    "# A scatter plot would be appropriate to determine the time frame of the purchase!\n",
    "plt.scatter(x,y)\n",
    "\n",
    "# Adding Labels\n",
    "plt.xlabel('Month')\n",
    "plt.ylabel('Order Quantity')\n",
    "plt.title('Order Quantity Trend of \"MEDIUM CERAMIC TOP STORAGE JAR\"')\n",
    "\n",
    "# Changing the limit for clear visibility\n",
    "plt.ylim(0,80000)\n",
    "\n",
    "# Rotating the label \n",
    "plt.xticks(rotation=45)\n",
    "\n",
    "\n",
    "plt.show()"
   ]
  },
  {
   "cell_type": "markdown",
   "metadata": {},
   "source": [
    "We see that only during the first month of 2011 there has been a bulk order of around 75000 and the rest of the sales are from the \"May\" to \"Dec\" 2011."
   ]
  },
  {
   "cell_type": "code",
   "execution_count": 28,
   "metadata": {},
   "outputs": [
    {
     "data": {
      "text/html": [
       "<div>\n",
       "<style scoped>\n",
       "    .dataframe tbody tr th:only-of-type {\n",
       "        vertical-align: middle;\n",
       "    }\n",
       "\n",
       "    .dataframe tbody tr th {\n",
       "        vertical-align: top;\n",
       "    }\n",
       "\n",
       "    .dataframe thead th {\n",
       "        text-align: right;\n",
       "    }\n",
       "</style>\n",
       "<table border=\"1\" class=\"dataframe\">\n",
       "  <thead>\n",
       "    <tr style=\"text-align: right;\">\n",
       "      <th></th>\n",
       "      <th>invoice date</th>\n",
       "      <th>quantity</th>\n",
       "    </tr>\n",
       "  </thead>\n",
       "  <tbody>\n",
       "    <tr>\n",
       "      <th>0</th>\n",
       "      <td>2011-01-31</td>\n",
       "      <td>74215</td>\n",
       "    </tr>\n",
       "    <tr>\n",
       "      <th>1</th>\n",
       "      <td>2011-02-28</td>\n",
       "      <td>0</td>\n",
       "    </tr>\n",
       "    <tr>\n",
       "      <th>2</th>\n",
       "      <td>2011-03-31</td>\n",
       "      <td>0</td>\n",
       "    </tr>\n",
       "    <tr>\n",
       "      <th>3</th>\n",
       "      <td>2011-04-30</td>\n",
       "      <td>0</td>\n",
       "    </tr>\n",
       "    <tr>\n",
       "      <th>4</th>\n",
       "      <td>2011-05-31</td>\n",
       "      <td>792</td>\n",
       "    </tr>\n",
       "    <tr>\n",
       "      <th>5</th>\n",
       "      <td>2011-06-30</td>\n",
       "      <td>391</td>\n",
       "    </tr>\n",
       "    <tr>\n",
       "      <th>6</th>\n",
       "      <td>2011-07-31</td>\n",
       "      <td>718</td>\n",
       "    </tr>\n",
       "    <tr>\n",
       "      <th>7</th>\n",
       "      <td>2011-08-31</td>\n",
       "      <td>405</td>\n",
       "    </tr>\n",
       "    <tr>\n",
       "      <th>8</th>\n",
       "      <td>2011-09-30</td>\n",
       "      <td>342</td>\n",
       "    </tr>\n",
       "    <tr>\n",
       "      <th>9</th>\n",
       "      <td>2011-10-31</td>\n",
       "      <td>235</td>\n",
       "    </tr>\n",
       "    <tr>\n",
       "      <th>10</th>\n",
       "      <td>2011-11-30</td>\n",
       "      <td>631</td>\n",
       "    </tr>\n",
       "    <tr>\n",
       "      <th>11</th>\n",
       "      <td>2011-12-31</td>\n",
       "      <td>187</td>\n",
       "    </tr>\n",
       "  </tbody>\n",
       "</table>\n",
       "</div>"
      ],
      "text/plain": [
       "   invoice date  quantity\n",
       "0    2011-01-31     74215\n",
       "1    2011-02-28         0\n",
       "2    2011-03-31         0\n",
       "3    2011-04-30         0\n",
       "4    2011-05-31       792\n",
       "5    2011-06-30       391\n",
       "6    2011-07-31       718\n",
       "7    2011-08-31       405\n",
       "8    2011-09-30       342\n",
       "9    2011-10-31       235\n",
       "10   2011-11-30       631\n",
       "11   2011-12-31       187"
      ]
     },
     "execution_count": 28,
     "metadata": {},
     "output_type": "execute_result"
    }
   ],
   "source": [
    "product_analysis_sample= product_analysis.resample(\"M\", on=\"invoice date\")[\"quantity\"].sum().reset_index()\n",
    "product_analysis_sample"
   ]
  },
  {
   "cell_type": "code",
   "execution_count": null,
   "metadata": {},
   "outputs": [],
   "source": []
  },
  {
   "cell_type": "code",
   "execution_count": 29,
   "metadata": {},
   "outputs": [
    {
     "data": {
      "text/plain": [
       "77916"
      ]
     },
     "execution_count": 29,
     "metadata": {},
     "output_type": "execute_result"
    }
   ],
   "source": [
    "product_analysis_sample[\"quantity\"].sum()  # Total order quantity "
   ]
  },
  {
   "cell_type": "markdown",
   "metadata": {},
   "source": [
    "Let's plot the monthly sold quantity !"
   ]
  },
  {
   "cell_type": "code",
   "execution_count": 30,
   "metadata": {},
   "outputs": [
    {
     "data": {
      "image/png": "[encoded data removed]",
      "text/plain": [
       "<Figure size 640x480 with 1 Axes>"
      ]
     },
     "metadata": {},
     "output_type": "display_data"
    }
   ],
   "source": [
    "# Assigning Data points\n",
    "x= product_analysis_sample[\"invoice date\"]\n",
    "y= product_analysis_sample[\"quantity\"]\n",
    "\n",
    "\n",
    "# A scatter plot would be appropriate to determine the time frame of the purchase!\n",
    "plt.plot(x,y, color= \"green\")\n",
    "\n",
    "# Adding Labels\n",
    "plt.xlabel('Month')\n",
    "plt.ylabel('Order Quantity')\n",
    "plt.title('Order Quantity Trend of \"MEDIUM CERAMIC TOP STORAGE JAR\"')\n",
    "\n",
    "# Changing the limit for clear visibility\n",
    "plt.ylim(0,900)   # limiting to ignore the large order quantity(74215) on the jan of 2011\n",
    "\n",
    "# Rotating the label \n",
    "plt.xticks(rotation=45)\n",
    "\n",
    "\n",
    "plt.show()"
   ]
  },
  {
   "cell_type": "markdown",
   "metadata": {},
   "source": [
    "# How many SKU's are sold per day / Month / Quater ?"
   ]
  },
  {
   "cell_type": "code",
   "execution_count": 31,
   "metadata": {},
   "outputs": [
    {
     "data": {
      "text/html": [
       "<div>\n",
       "<style scoped>\n",
       "    .dataframe tbody tr th:only-of-type {\n",
       "        vertical-align: middle;\n",
       "    }\n",
       "\n",
       "    .dataframe tbody tr th {\n",
       "        vertical-align: top;\n",
       "    }\n",
       "\n",
       "    .dataframe thead th {\n",
       "        text-align: right;\n",
       "    }\n",
       "</style>\n",
       "<table border=\"1\" class=\"dataframe\">\n",
       "  <thead>\n",
       "    <tr style=\"text-align: right;\">\n",
       "      <th></th>\n",
       "      <th>date</th>\n",
       "      <th>sum of SKU sold</th>\n",
       "      <th>total amount</th>\n",
       "    </tr>\n",
       "  </thead>\n",
       "  <tbody>\n",
       "    <tr>\n",
       "      <th>0</th>\n",
       "      <td>2010-12-01</td>\n",
       "      <td>24107</td>\n",
       "      <td>46085.29</td>\n",
       "    </tr>\n",
       "    <tr>\n",
       "      <th>1</th>\n",
       "      <td>2010-12-02</td>\n",
       "      <td>31075</td>\n",
       "      <td>47164.57</td>\n",
       "    </tr>\n",
       "    <tr>\n",
       "      <th>2</th>\n",
       "      <td>2010-12-03</td>\n",
       "      <td>11781</td>\n",
       "      <td>23530.93</td>\n",
       "    </tr>\n",
       "    <tr>\n",
       "      <th>3</th>\n",
       "      <td>2010-12-04</td>\n",
       "      <td>0</td>\n",
       "      <td>0.00</td>\n",
       "    </tr>\n",
       "    <tr>\n",
       "      <th>4</th>\n",
       "      <td>2010-12-05</td>\n",
       "      <td>16163</td>\n",
       "      <td>30913.27</td>\n",
       "    </tr>\n",
       "    <tr>\n",
       "      <th>...</th>\n",
       "      <td>...</td>\n",
       "      <td>...</td>\n",
       "      <td>...</td>\n",
       "    </tr>\n",
       "    <tr>\n",
       "      <th>369</th>\n",
       "      <td>2011-12-05</td>\n",
       "      <td>37529</td>\n",
       "      <td>55849.48</td>\n",
       "    </tr>\n",
       "    <tr>\n",
       "      <th>370</th>\n",
       "      <td>2011-12-06</td>\n",
       "      <td>27707</td>\n",
       "      <td>45429.81</td>\n",
       "    </tr>\n",
       "    <tr>\n",
       "      <th>371</th>\n",
       "      <td>2011-12-07</td>\n",
       "      <td>40989</td>\n",
       "      <td>68575.60</td>\n",
       "    </tr>\n",
       "    <tr>\n",
       "      <th>372</th>\n",
       "      <td>2011-12-08</td>\n",
       "      <td>27461</td>\n",
       "      <td>50090.70</td>\n",
       "    </tr>\n",
       "    <tr>\n",
       "      <th>373</th>\n",
       "      <td>2011-12-09</td>\n",
       "      <td>90543</td>\n",
       "      <td>184170.66</td>\n",
       "    </tr>\n",
       "  </tbody>\n",
       "</table>\n",
       "<p>374 rows × 3 columns</p>\n",
       "</div>"
      ],
      "text/plain": [
       "          date  sum of SKU sold  total amount\n",
       "0   2010-12-01            24107      46085.29\n",
       "1   2010-12-02            31075      47164.57\n",
       "2   2010-12-03            11781      23530.93\n",
       "3   2010-12-04                0          0.00\n",
       "4   2010-12-05            16163      30913.27\n",
       "..         ...              ...           ...\n",
       "369 2011-12-05            37529      55849.48\n",
       "370 2011-12-06            27707      45429.81\n",
       "371 2011-12-07            40989      68575.60\n",
       "372 2011-12-08            27461      50090.70\n",
       "373 2011-12-09            90543     184170.66\n",
       "\n",
       "[374 rows x 3 columns]"
      ]
     },
     "execution_count": 31,
     "metadata": {},
     "output_type": "execute_result"
    }
   ],
   "source": [
    "sku_per_day= df.resample(\"D\",on=\"invoice date\")[[\"quantity\",\"total price\"]].sum().reset_index()\n",
    "sku_per_day.columns=[\"date\",\"sum of SKU sold\",\"total amount\"]\n",
    "sku_per_day"
   ]
  },
  {
   "cell_type": "code",
   "execution_count": 32,
   "metadata": {},
   "outputs": [
    {
     "data": {
      "text/plain": [
       "sum of SKU sold    5155797\n",
       "total amount       8757409\n",
       "dtype: int32"
      ]
     },
     "execution_count": 32,
     "metadata": {},
     "output_type": "execute_result"
    }
   ],
   "source": [
    "sku_per_day[[\"sum of SKU sold\",\"total amount\"]].sum().astype(\"int\")"
   ]
  },
  {
   "cell_type": "code",
   "execution_count": 33,
   "metadata": {},
   "outputs": [
    {
     "data": {
      "text/html": [
       "<div>\n",
       "<style scoped>\n",
       "    .dataframe tbody tr th:only-of-type {\n",
       "        vertical-align: middle;\n",
       "    }\n",
       "\n",
       "    .dataframe tbody tr th {\n",
       "        vertical-align: top;\n",
       "    }\n",
       "\n",
       "    .dataframe thead th {\n",
       "        text-align: right;\n",
       "    }\n",
       "</style>\n",
       "<table border=\"1\" class=\"dataframe\">\n",
       "  <thead>\n",
       "    <tr style=\"text-align: right;\">\n",
       "      <th></th>\n",
       "      <th>Month</th>\n",
       "      <th>sum of SKU sold per Month</th>\n",
       "      <th>total Amount</th>\n",
       "    </tr>\n",
       "  </thead>\n",
       "  <tbody>\n",
       "    <tr>\n",
       "      <th>0</th>\n",
       "      <td>2010-12-31</td>\n",
       "      <td>310647</td>\n",
       "      <td>565890.810</td>\n",
       "    </tr>\n",
       "    <tr>\n",
       "      <th>1</th>\n",
       "      <td>2011-01-31</td>\n",
       "      <td>348231</td>\n",
       "      <td>563001.810</td>\n",
       "    </tr>\n",
       "    <tr>\n",
       "      <th>2</th>\n",
       "      <td>2011-02-28</td>\n",
       "      <td>264805</td>\n",
       "      <td>442503.990</td>\n",
       "    </tr>\n",
       "    <tr>\n",
       "      <th>3</th>\n",
       "      <td>2011-03-31</td>\n",
       "      <td>347298</td>\n",
       "      <td>583957.300</td>\n",
       "    </tr>\n",
       "    <tr>\n",
       "      <th>4</th>\n",
       "      <td>2011-04-30</td>\n",
       "      <td>291128</td>\n",
       "      <td>454855.281</td>\n",
       "    </tr>\n",
       "    <tr>\n",
       "      <th>5</th>\n",
       "      <td>2011-05-31</td>\n",
       "      <td>372682</td>\n",
       "      <td>659997.090</td>\n",
       "    </tr>\n",
       "    <tr>\n",
       "      <th>6</th>\n",
       "      <td>2011-06-30</td>\n",
       "      <td>362736</td>\n",
       "      <td>653764.920</td>\n",
       "    </tr>\n",
       "    <tr>\n",
       "      <th>7</th>\n",
       "      <td>2011-07-31</td>\n",
       "      <td>367076</td>\n",
       "      <td>592160.491</td>\n",
       "    </tr>\n",
       "    <tr>\n",
       "      <th>8</th>\n",
       "      <td>2011-08-31</td>\n",
       "      <td>397922</td>\n",
       "      <td>637129.660</td>\n",
       "    </tr>\n",
       "    <tr>\n",
       "      <th>9</th>\n",
       "      <td>2011-09-30</td>\n",
       "      <td>542845</td>\n",
       "      <td>939652.632</td>\n",
       "    </tr>\n",
       "    <tr>\n",
       "      <th>10</th>\n",
       "      <td>2011-10-31</td>\n",
       "      <td>590195</td>\n",
       "      <td>1003042.710</td>\n",
       "    </tr>\n",
       "    <tr>\n",
       "      <th>11</th>\n",
       "      <td>2011-11-30</td>\n",
       "      <td>674399</td>\n",
       "      <td>1149074.830</td>\n",
       "    </tr>\n",
       "    <tr>\n",
       "      <th>12</th>\n",
       "      <td>2011-12-31</td>\n",
       "      <td>285833</td>\n",
       "      <td>512378.080</td>\n",
       "    </tr>\n",
       "  </tbody>\n",
       "</table>\n",
       "</div>"
      ],
      "text/plain": [
       "        Month  sum of SKU sold per Month  total Amount\n",
       "0  2010-12-31                     310647    565890.810\n",
       "1  2011-01-31                     348231    563001.810\n",
       "2  2011-02-28                     264805    442503.990\n",
       "3  2011-03-31                     347298    583957.300\n",
       "4  2011-04-30                     291128    454855.281\n",
       "5  2011-05-31                     372682    659997.090\n",
       "6  2011-06-30                     362736    653764.920\n",
       "7  2011-07-31                     367076    592160.491\n",
       "8  2011-08-31                     397922    637129.660\n",
       "9  2011-09-30                     542845    939652.632\n",
       "10 2011-10-31                     590195   1003042.710\n",
       "11 2011-11-30                     674399   1149074.830\n",
       "12 2011-12-31                     285833    512378.080"
      ]
     },
     "execution_count": 33,
     "metadata": {},
     "output_type": "execute_result"
    }
   ],
   "source": [
    "sku_per_month= df.resample(\"M\",on=\"invoice date\")[[\"quantity\",\"total price\"]].sum().reset_index()\n",
    "sku_per_month.columns=[\"Month\",\"sum of SKU sold per Month\",\"total Amount\"]\n",
    "sku_per_month"
   ]
  },
  {
   "cell_type": "code",
   "execution_count": 34,
   "metadata": {},
   "outputs": [
    {
     "data": {
      "text/plain": [
       "sum of SKU sold per Month    5155797\n",
       "total Amount                 8757409\n",
       "dtype: int32"
      ]
     },
     "execution_count": 34,
     "metadata": {},
     "output_type": "execute_result"
    }
   ],
   "source": [
    "sku_per_month[[\"sum of SKU sold per Month\",\"total Amount\"]].sum().astype(\"int\")"
   ]
  },
  {
   "cell_type": "code",
   "execution_count": 35,
   "metadata": {},
   "outputs": [
    {
     "data": {
      "text/plain": [
       "<AxesSubplot:xlabel='Month'>"
      ]
     },
     "execution_count": 35,
     "metadata": {},
     "output_type": "execute_result"
    },
    {
     "data": {
      "image/png": "[encoded data removed]",
      "text/plain": [
       "<Figure size 640x480 with 1 Axes>"
      ]
     },
     "metadata": {},
     "output_type": "display_data"
    }
   ],
   "source": [
    "sku_per_month.plot(kind=\"bar\",xlabel=\"Month\")"
   ]
  },
  {
   "cell_type": "code",
   "execution_count": 36,
   "metadata": {},
   "outputs": [
    {
     "data": {
      "text/html": [
       "<div>\n",
       "<style scoped>\n",
       "    .dataframe tbody tr th:only-of-type {\n",
       "        vertical-align: middle;\n",
       "    }\n",
       "\n",
       "    .dataframe tbody tr th {\n",
       "        vertical-align: top;\n",
       "    }\n",
       "\n",
       "    .dataframe thead th {\n",
       "        text-align: right;\n",
       "    }\n",
       "</style>\n",
       "<table border=\"1\" class=\"dataframe\">\n",
       "  <thead>\n",
       "    <tr style=\"text-align: right;\">\n",
       "      <th></th>\n",
       "      <th>quater</th>\n",
       "      <th>sum of SKU sold per quater</th>\n",
       "      <th>Total Amount</th>\n",
       "    </tr>\n",
       "  </thead>\n",
       "  <tbody>\n",
       "    <tr>\n",
       "      <th>0</th>\n",
       "      <td>2010-12-31</td>\n",
       "      <td>310647</td>\n",
       "      <td>565890.810</td>\n",
       "    </tr>\n",
       "    <tr>\n",
       "      <th>1</th>\n",
       "      <td>2011-03-31</td>\n",
       "      <td>960334</td>\n",
       "      <td>1589463.100</td>\n",
       "    </tr>\n",
       "    <tr>\n",
       "      <th>2</th>\n",
       "      <td>2011-06-30</td>\n",
       "      <td>1026546</td>\n",
       "      <td>1768617.291</td>\n",
       "    </tr>\n",
       "    <tr>\n",
       "      <th>3</th>\n",
       "      <td>2011-09-30</td>\n",
       "      <td>1307843</td>\n",
       "      <td>2168942.783</td>\n",
       "    </tr>\n",
       "    <tr>\n",
       "      <th>4</th>\n",
       "      <td>2011-12-31</td>\n",
       "      <td>1550427</td>\n",
       "      <td>2664495.620</td>\n",
       "    </tr>\n",
       "  </tbody>\n",
       "</table>\n",
       "</div>"
      ],
      "text/plain": [
       "      quater  sum of SKU sold per quater  Total Amount\n",
       "0 2010-12-31                      310647    565890.810\n",
       "1 2011-03-31                      960334   1589463.100\n",
       "2 2011-06-30                     1026546   1768617.291\n",
       "3 2011-09-30                     1307843   2168942.783\n",
       "4 2011-12-31                     1550427   2664495.620"
      ]
     },
     "execution_count": 36,
     "metadata": {},
     "output_type": "execute_result"
    }
   ],
   "source": [
    "sku_per_q= df.resample(\"Q\",on=\"invoice date\")[[\"quantity\",\"total price\"]].sum().reset_index()\n",
    "sku_per_q.columns=[\"quater\",\"sum of SKU sold per quater\",\"Total Amount\"]\n",
    "sku_per_q"
   ]
  },
  {
   "cell_type": "code",
   "execution_count": 37,
   "metadata": {},
   "outputs": [
    {
     "data": {
      "text/plain": [
       "<AxesSubplot:xlabel='quater'>"
      ]
     },
     "execution_count": 37,
     "metadata": {},
     "output_type": "execute_result"
    },
    {
     "data": {
      "image/png": "[encoded data removed]",
      "text/plain": [
       "<Figure size 640x480 with 1 Axes>"
      ]
     },
     "metadata": {},
     "output_type": "display_data"
    }
   ],
   "source": [
    "sku_per_q.plot(kind=\"bar\",xlabel='quater')"
   ]
  },
  {
   "cell_type": "markdown",
   "metadata": {},
   "source": [
    "# Country wise products sold and its revenue!"
   ]
  },
  {
   "cell_type": "code",
   "execution_count": 38,
   "metadata": {},
   "outputs": [
    {
     "data": {
      "text/html": [
       "<div>\n",
       "<style scoped>\n",
       "    .dataframe tbody tr th:only-of-type {\n",
       "        vertical-align: middle;\n",
       "    }\n",
       "\n",
       "    .dataframe tbody tr th {\n",
       "        vertical-align: top;\n",
       "    }\n",
       "\n",
       "    .dataframe thead th {\n",
       "        text-align: right;\n",
       "    }\n",
       "</style>\n",
       "<table border=\"1\" class=\"dataframe\">\n",
       "  <thead>\n",
       "    <tr style=\"text-align: right;\">\n",
       "      <th></th>\n",
       "      <th>Country</th>\n",
       "      <th>sum of SKU's Sold</th>\n",
       "      <th>Total Revenue</th>\n",
       "    </tr>\n",
       "  </thead>\n",
       "  <tbody>\n",
       "    <tr>\n",
       "      <th>0</th>\n",
       "      <td>Australia</td>\n",
       "      <td>84198</td>\n",
       "      <td>139051.450</td>\n",
       "    </tr>\n",
       "    <tr>\n",
       "      <th>1</th>\n",
       "      <td>Austria</td>\n",
       "      <td>4844</td>\n",
       "      <td>8742.680</td>\n",
       "    </tr>\n",
       "    <tr>\n",
       "      <th>2</th>\n",
       "      <td>Bahrain</td>\n",
       "      <td>260</td>\n",
       "      <td>548.400</td>\n",
       "    </tr>\n",
       "    <tr>\n",
       "      <th>3</th>\n",
       "      <td>Belgium</td>\n",
       "      <td>22962</td>\n",
       "      <td>36927.340</td>\n",
       "    </tr>\n",
       "    <tr>\n",
       "      <th>4</th>\n",
       "      <td>Brazil</td>\n",
       "      <td>356</td>\n",
       "      <td>1143.600</td>\n",
       "    </tr>\n",
       "    <tr>\n",
       "      <th>5</th>\n",
       "      <td>Canada</td>\n",
       "      <td>2762</td>\n",
       "      <td>3115.440</td>\n",
       "    </tr>\n",
       "    <tr>\n",
       "      <th>6</th>\n",
       "      <td>Channel Islands</td>\n",
       "      <td>9484</td>\n",
       "      <td>20147.540</td>\n",
       "    </tr>\n",
       "    <tr>\n",
       "      <th>7</th>\n",
       "      <td>Cyprus</td>\n",
       "      <td>6338</td>\n",
       "      <td>13167.160</td>\n",
       "    </tr>\n",
       "    <tr>\n",
       "      <th>8</th>\n",
       "      <td>Czech Republic</td>\n",
       "      <td>670</td>\n",
       "      <td>786.740</td>\n",
       "    </tr>\n",
       "    <tr>\n",
       "      <th>9</th>\n",
       "      <td>Denmark</td>\n",
       "      <td>8193</td>\n",
       "      <td>18211.340</td>\n",
       "    </tr>\n",
       "    <tr>\n",
       "      <th>10</th>\n",
       "      <td>European Community</td>\n",
       "      <td>490</td>\n",
       "      <td>1159.250</td>\n",
       "    </tr>\n",
       "    <tr>\n",
       "      <th>11</th>\n",
       "      <td>Finland</td>\n",
       "      <td>10608</td>\n",
       "      <td>18344.880</td>\n",
       "    </tr>\n",
       "    <tr>\n",
       "      <th>12</th>\n",
       "      <td>France</td>\n",
       "      <td>110597</td>\n",
       "      <td>183987.940</td>\n",
       "    </tr>\n",
       "    <tr>\n",
       "      <th>13</th>\n",
       "      <td>Germany</td>\n",
       "      <td>118033</td>\n",
       "      <td>205389.100</td>\n",
       "    </tr>\n",
       "    <tr>\n",
       "      <th>14</th>\n",
       "      <td>Greece</td>\n",
       "      <td>1550</td>\n",
       "      <td>4425.520</td>\n",
       "    </tr>\n",
       "    <tr>\n",
       "      <th>15</th>\n",
       "      <td>Iceland</td>\n",
       "      <td>2458</td>\n",
       "      <td>4310.000</td>\n",
       "    </tr>\n",
       "    <tr>\n",
       "      <th>16</th>\n",
       "      <td>Ireland</td>\n",
       "      <td>140381</td>\n",
       "      <td>262496.820</td>\n",
       "    </tr>\n",
       "    <tr>\n",
       "      <th>17</th>\n",
       "      <td>Israel</td>\n",
       "      <td>4043</td>\n",
       "      <td>7215.840</td>\n",
       "    </tr>\n",
       "    <tr>\n",
       "      <th>18</th>\n",
       "      <td>Italy</td>\n",
       "      <td>8067</td>\n",
       "      <td>15820.240</td>\n",
       "    </tr>\n",
       "    <tr>\n",
       "      <th>19</th>\n",
       "      <td>Japan</td>\n",
       "      <td>26016</td>\n",
       "      <td>37416.370</td>\n",
       "    </tr>\n",
       "    <tr>\n",
       "      <th>20</th>\n",
       "      <td>Lebanon</td>\n",
       "      <td>386</td>\n",
       "      <td>1693.880</td>\n",
       "    </tr>\n",
       "    <tr>\n",
       "      <th>21</th>\n",
       "      <td>Lithuania</td>\n",
       "      <td>652</td>\n",
       "      <td>1661.060</td>\n",
       "    </tr>\n",
       "    <tr>\n",
       "      <th>22</th>\n",
       "      <td>Malta</td>\n",
       "      <td>958</td>\n",
       "      <td>2070.590</td>\n",
       "    </tr>\n",
       "    <tr>\n",
       "      <th>23</th>\n",
       "      <td>Netherlands</td>\n",
       "      <td>200834</td>\n",
       "      <td>284655.420</td>\n",
       "    </tr>\n",
       "    <tr>\n",
       "      <th>24</th>\n",
       "      <td>Norway</td>\n",
       "      <td>19276</td>\n",
       "      <td>32454.640</td>\n",
       "    </tr>\n",
       "    <tr>\n",
       "      <th>25</th>\n",
       "      <td>Poland</td>\n",
       "      <td>3675</td>\n",
       "      <td>6974.650</td>\n",
       "    </tr>\n",
       "    <tr>\n",
       "      <th>26</th>\n",
       "      <td>Portugal</td>\n",
       "      <td>15990</td>\n",
       "      <td>26643.900</td>\n",
       "    </tr>\n",
       "    <tr>\n",
       "      <th>27</th>\n",
       "      <td>RSA</td>\n",
       "      <td>351</td>\n",
       "      <td>1002.310</td>\n",
       "    </tr>\n",
       "    <tr>\n",
       "      <th>28</th>\n",
       "      <td>Saudi Arabia</td>\n",
       "      <td>80</td>\n",
       "      <td>145.920</td>\n",
       "    </tr>\n",
       "    <tr>\n",
       "      <th>29</th>\n",
       "      <td>Singapore</td>\n",
       "      <td>5234</td>\n",
       "      <td>9120.390</td>\n",
       "    </tr>\n",
       "    <tr>\n",
       "      <th>30</th>\n",
       "      <td>Spain</td>\n",
       "      <td>27735</td>\n",
       "      <td>55753.310</td>\n",
       "    </tr>\n",
       "    <tr>\n",
       "      <th>31</th>\n",
       "      <td>Sweden</td>\n",
       "      <td>36037</td>\n",
       "      <td>36828.830</td>\n",
       "    </tr>\n",
       "    <tr>\n",
       "      <th>32</th>\n",
       "      <td>Switzerland</td>\n",
       "      <td>29981</td>\n",
       "      <td>52450.450</td>\n",
       "    </tr>\n",
       "    <tr>\n",
       "      <th>33</th>\n",
       "      <td>USA</td>\n",
       "      <td>2458</td>\n",
       "      <td>3580.390</td>\n",
       "    </tr>\n",
       "    <tr>\n",
       "      <th>34</th>\n",
       "      <td>United Arab Emirates</td>\n",
       "      <td>981</td>\n",
       "      <td>1864.780</td>\n",
       "    </tr>\n",
       "    <tr>\n",
       "      <th>35</th>\n",
       "      <td>United Kingdom</td>\n",
       "      <td>4248859</td>\n",
       "      <td>7258101.434</td>\n",
       "    </tr>\n",
       "  </tbody>\n",
       "</table>\n",
       "</div>"
      ],
      "text/plain": [
       "                 Country  sum of SKU's Sold  Total Revenue\n",
       "0              Australia              84198     139051.450\n",
       "1                Austria               4844       8742.680\n",
       "2                Bahrain                260        548.400\n",
       "3                Belgium              22962      36927.340\n",
       "4                 Brazil                356       1143.600\n",
       "5                 Canada               2762       3115.440\n",
       "6        Channel Islands               9484      20147.540\n",
       "7                 Cyprus               6338      13167.160\n",
       "8         Czech Republic                670        786.740\n",
       "9                Denmark               8193      18211.340\n",
       "10    European Community                490       1159.250\n",
       "11               Finland              10608      18344.880\n",
       "12                France             110597     183987.940\n",
       "13               Germany             118033     205389.100\n",
       "14                Greece               1550       4425.520\n",
       "15               Iceland               2458       4310.000\n",
       "16               Ireland             140381     262496.820\n",
       "17                Israel               4043       7215.840\n",
       "18                 Italy               8067      15820.240\n",
       "19                 Japan              26016      37416.370\n",
       "20               Lebanon                386       1693.880\n",
       "21             Lithuania                652       1661.060\n",
       "22                 Malta                958       2070.590\n",
       "23           Netherlands             200834     284655.420\n",
       "24                Norway              19276      32454.640\n",
       "25                Poland               3675       6974.650\n",
       "26              Portugal              15990      26643.900\n",
       "27                   RSA                351       1002.310\n",
       "28          Saudi Arabia                 80        145.920\n",
       "29             Singapore               5234       9120.390\n",
       "30                 Spain              27735      55753.310\n",
       "31                Sweden              36037      36828.830\n",
       "32           Switzerland              29981      52450.450\n",
       "33                   USA               2458       3580.390\n",
       "34  United Arab Emirates                981       1864.780\n",
       "35        United Kingdom            4248859    7258101.434"
      ]
     },
     "execution_count": 38,
     "metadata": {},
     "output_type": "execute_result"
    }
   ],
   "source": [
    "country_wise= df.groupby(\"country\")[[\"quantity\",\"total price\"]].sum().reset_index()\n",
    "country_wise.columns=[\"Country\",\"sum of SKU's Sold\",\"Total Revenue\"]\n",
    "country_wise"
   ]
  },
  {
   "cell_type": "markdown",
   "metadata": {},
   "source": [
    "# country with most sales ?\n"
   ]
  },
  {
   "cell_type": "code",
   "execution_count": 39,
   "metadata": {},
   "outputs": [
    {
     "data": {
      "text/html": [
       "<div>\n",
       "<style scoped>\n",
       "    .dataframe tbody tr th:only-of-type {\n",
       "        vertical-align: middle;\n",
       "    }\n",
       "\n",
       "    .dataframe tbody tr th {\n",
       "        vertical-align: top;\n",
       "    }\n",
       "\n",
       "    .dataframe thead th {\n",
       "        text-align: right;\n",
       "    }\n",
       "</style>\n",
       "<table border=\"1\" class=\"dataframe\">\n",
       "  <thead>\n",
       "    <tr style=\"text-align: right;\">\n",
       "      <th></th>\n",
       "      <th>Country</th>\n",
       "      <th>sum of SKU's Sold</th>\n",
       "      <th>Total Revenue</th>\n",
       "    </tr>\n",
       "  </thead>\n",
       "  <tbody>\n",
       "    <tr>\n",
       "      <th>35</th>\n",
       "      <td>United Kingdom</td>\n",
       "      <td>4248859</td>\n",
       "      <td>7258101.434</td>\n",
       "    </tr>\n",
       "    <tr>\n",
       "      <th>23</th>\n",
       "      <td>Netherlands</td>\n",
       "      <td>200834</td>\n",
       "      <td>284655.420</td>\n",
       "    </tr>\n",
       "    <tr>\n",
       "      <th>16</th>\n",
       "      <td>Ireland</td>\n",
       "      <td>140381</td>\n",
       "      <td>262496.820</td>\n",
       "    </tr>\n",
       "    <tr>\n",
       "      <th>13</th>\n",
       "      <td>Germany</td>\n",
       "      <td>118033</td>\n",
       "      <td>205389.100</td>\n",
       "    </tr>\n",
       "    <tr>\n",
       "      <th>12</th>\n",
       "      <td>France</td>\n",
       "      <td>110597</td>\n",
       "      <td>183987.940</td>\n",
       "    </tr>\n",
       "  </tbody>\n",
       "</table>\n",
       "</div>"
      ],
      "text/plain": [
       "           Country  sum of SKU's Sold  Total Revenue\n",
       "35  United Kingdom            4248859    7258101.434\n",
       "23     Netherlands             200834     284655.420\n",
       "16         Ireland             140381     262496.820\n",
       "13         Germany             118033     205389.100\n",
       "12          France             110597     183987.940"
      ]
     },
     "execution_count": 39,
     "metadata": {},
     "output_type": "execute_result"
    }
   ],
   "source": [
    "most_sales =country_wise.sort_values(\"sum of SKU's Sold\",ascending= False).head(5)\n",
    "most_sales"
   ]
  },
  {
   "cell_type": "code",
   "execution_count": 40,
   "metadata": {},
   "outputs": [
    {
     "data": {
      "text/plain": [
       "<AxesSubplot:>"
      ]
     },
     "execution_count": 40,
     "metadata": {},
     "output_type": "execute_result"
    },
    {
     "data": {
      "image/png": "[encoded data removed]",
      "text/plain": [
       "<Figure size 640x480 with 1 Axes>"
      ]
     },
     "metadata": {},
     "output_type": "display_data"
    }
   ],
   "source": [
    "most_sales.plot(kind=\"bar\")"
   ]
  },
  {
   "cell_type": "markdown",
   "metadata": {},
   "source": [
    "Clearly the UK has the most sales !"
   ]
  },
  {
   "cell_type": "markdown",
   "metadata": {},
   "source": [
    "# what % of the order quantity is from the UK ?"
   ]
  },
  {
   "cell_type": "code",
   "execution_count": 41,
   "metadata": {},
   "outputs": [
    {
     "data": {
      "image/png": "[encoded data removed]",
      "text/plain": [
       "<Figure size 1000x700 with 1 Axes>"
      ]
     },
     "metadata": {},
     "output_type": "display_data"
    }
   ],
   "source": [
    "# plotting a pie char !\n",
    "values= country_wise[\"sum of SKU's Sold\"]\n",
    "labels= country_wise[\"Country\"]\n",
    "\n",
    "plt.figure(figsize= (10,7))\n",
    " \n",
    "plt.pie(values, labels= labels, autopct= '%1.2f%%',rotatelabels= True)\n",
    "\n",
    "plt.title(\"Country wise products sold \")\n",
    "plt.show()"
   ]
  },
  {
   "cell_type": "markdown",
   "metadata": {},
   "source": [
    "# what % of revenue is from the UK ?"
   ]
  },
  {
   "cell_type": "code",
   "execution_count": 42,
   "metadata": {},
   "outputs": [
    {
     "data": {
      "image/png": "[encoded data removed]",
      "text/plain": [
       "<Figure size 1000x700 with 1 Axes>"
      ]
     },
     "metadata": {},
     "output_type": "display_data"
    }
   ],
   "source": [
    "# plotting a pie char !\n",
    "values= country_wise[\"Total Revenue\"]\n",
    "labels= country_wise[\"Country\"]\n",
    "\n",
    "plt.figure(figsize= (10,7))\n",
    " \n",
    "plt.pie(values, labels= labels, autopct= '%1.2f%%',rotatelabels= True)\n",
    "\n",
    "plt.title(\"Country wise Revenue\")\n",
    "plt.show()"
   ]
  },
  {
   "cell_type": "markdown",
   "metadata": {},
   "source": [
    "# 4.Customer Analysis"
   ]
  },
  {
   "cell_type": "markdown",
   "metadata": {},
   "source": [
    "# What is the Customer lifetime value (CLTV) ?"
   ]
  },
  {
   "cell_type": "code",
   "execution_count": 43,
   "metadata": {},
   "outputs": [
    {
     "data": {
      "text/html": [
       "<div>\n",
       "<style scoped>\n",
       "    .dataframe tbody tr th:only-of-type {\n",
       "        vertical-align: middle;\n",
       "    }\n",
       "\n",
       "    .dataframe tbody tr th {\n",
       "        vertical-align: top;\n",
       "    }\n",
       "\n",
       "    .dataframe thead th {\n",
       "        text-align: right;\n",
       "    }\n",
       "</style>\n",
       "<table border=\"1\" class=\"dataframe\">\n",
       "  <thead>\n",
       "    <tr style=\"text-align: right;\">\n",
       "      <th></th>\n",
       "      <th>customer ID</th>\n",
       "      <th>quantity</th>\n",
       "      <th>total price</th>\n",
       "    </tr>\n",
       "  </thead>\n",
       "  <tbody>\n",
       "    <tr>\n",
       "      <th>0</th>\n",
       "      <td>12346</td>\n",
       "      <td>74215</td>\n",
       "      <td>77183.60</td>\n",
       "    </tr>\n",
       "    <tr>\n",
       "      <th>1</th>\n",
       "      <td>12347</td>\n",
       "      <td>2458</td>\n",
       "      <td>4310.00</td>\n",
       "    </tr>\n",
       "    <tr>\n",
       "      <th>2</th>\n",
       "      <td>12348</td>\n",
       "      <td>2332</td>\n",
       "      <td>1437.24</td>\n",
       "    </tr>\n",
       "    <tr>\n",
       "      <th>3</th>\n",
       "      <td>12349</td>\n",
       "      <td>630</td>\n",
       "      <td>1457.55</td>\n",
       "    </tr>\n",
       "    <tr>\n",
       "      <th>4</th>\n",
       "      <td>12350</td>\n",
       "      <td>196</td>\n",
       "      <td>294.40</td>\n",
       "    </tr>\n",
       "    <tr>\n",
       "      <th>...</th>\n",
       "      <td>...</td>\n",
       "      <td>...</td>\n",
       "      <td>...</td>\n",
       "    </tr>\n",
       "    <tr>\n",
       "      <th>4330</th>\n",
       "      <td>18280</td>\n",
       "      <td>45</td>\n",
       "      <td>180.60</td>\n",
       "    </tr>\n",
       "    <tr>\n",
       "      <th>4331</th>\n",
       "      <td>18281</td>\n",
       "      <td>54</td>\n",
       "      <td>80.82</td>\n",
       "    </tr>\n",
       "    <tr>\n",
       "      <th>4332</th>\n",
       "      <td>18282</td>\n",
       "      <td>103</td>\n",
       "      <td>178.05</td>\n",
       "    </tr>\n",
       "    <tr>\n",
       "      <th>4333</th>\n",
       "      <td>18283</td>\n",
       "      <td>1355</td>\n",
       "      <td>2039.58</td>\n",
       "    </tr>\n",
       "    <tr>\n",
       "      <th>4334</th>\n",
       "      <td>18287</td>\n",
       "      <td>1586</td>\n",
       "      <td>1837.28</td>\n",
       "    </tr>\n",
       "  </tbody>\n",
       "</table>\n",
       "<p>4335 rows × 3 columns</p>\n",
       "</div>"
      ],
      "text/plain": [
       "      customer ID  quantity  total price\n",
       "0           12346     74215     77183.60\n",
       "1           12347      2458      4310.00\n",
       "2           12348      2332      1437.24\n",
       "3           12349       630      1457.55\n",
       "4           12350       196       294.40\n",
       "...           ...       ...          ...\n",
       "4330        18280        45       180.60\n",
       "4331        18281        54        80.82\n",
       "4332        18282       103       178.05\n",
       "4333        18283      1355      2039.58\n",
       "4334        18287      1586      1837.28\n",
       "\n",
       "[4335 rows x 3 columns]"
      ]
     },
     "execution_count": 43,
     "metadata": {},
     "output_type": "execute_result"
    }
   ],
   "source": [
    "customer_cltv= df.groupby(\"customer ID\")[[\"quantity\",\"total price\"]].sum().reset_index()\n",
    "customer_cltv"
   ]
  },
  {
   "cell_type": "markdown",
   "metadata": {},
   "source": [
    "# Top 5 customer with most order quantity ?"
   ]
  },
  {
   "cell_type": "code",
   "execution_count": 44,
   "metadata": {},
   "outputs": [
    {
     "data": {
      "text/html": [
       "<div>\n",
       "<style scoped>\n",
       "    .dataframe tbody tr th:only-of-type {\n",
       "        vertical-align: middle;\n",
       "    }\n",
       "\n",
       "    .dataframe tbody tr th {\n",
       "        vertical-align: top;\n",
       "    }\n",
       "\n",
       "    .dataframe thead th {\n",
       "        text-align: right;\n",
       "    }\n",
       "</style>\n",
       "<table border=\"1\" class=\"dataframe\">\n",
       "  <thead>\n",
       "    <tr style=\"text-align: right;\">\n",
       "      <th></th>\n",
       "      <th>customer ID</th>\n",
       "      <th>quantity</th>\n",
       "      <th>total price</th>\n",
       "    </tr>\n",
       "  </thead>\n",
       "  <tbody>\n",
       "    <tr>\n",
       "      <th>1690</th>\n",
       "      <td>14646</td>\n",
       "      <td>197420</td>\n",
       "      <td>279904.10</td>\n",
       "    </tr>\n",
       "    <tr>\n",
       "      <th>3007</th>\n",
       "      <td>16446</td>\n",
       "      <td>80997</td>\n",
       "      <td>168472.50</td>\n",
       "    </tr>\n",
       "    <tr>\n",
       "      <th>1880</th>\n",
       "      <td>14911</td>\n",
       "      <td>80488</td>\n",
       "      <td>140945.53</td>\n",
       "    </tr>\n",
       "    <tr>\n",
       "      <th>55</th>\n",
       "      <td>12415</td>\n",
       "      <td>77669</td>\n",
       "      <td>125488.77</td>\n",
       "    </tr>\n",
       "    <tr>\n",
       "      <th>0</th>\n",
       "      <td>12346</td>\n",
       "      <td>74215</td>\n",
       "      <td>77183.60</td>\n",
       "    </tr>\n",
       "  </tbody>\n",
       "</table>\n",
       "</div>"
      ],
      "text/plain": [
       "      customer ID  quantity  total price\n",
       "1690        14646    197420    279904.10\n",
       "3007        16446     80997    168472.50\n",
       "1880        14911     80488    140945.53\n",
       "55          12415     77669    125488.77\n",
       "0           12346     74215     77183.60"
      ]
     },
     "execution_count": 44,
     "metadata": {},
     "output_type": "execute_result"
    }
   ],
   "source": [
    "customer_cltv.sort_values(\"quantity\",ascending= False).head(5)"
   ]
  },
  {
   "cell_type": "markdown",
   "metadata": {},
   "source": [
    "# Top 5 customers with most Revenue?"
   ]
  },
  {
   "cell_type": "code",
   "execution_count": 45,
   "metadata": {},
   "outputs": [
    {
     "data": {
      "text/html": [
       "<div>\n",
       "<style scoped>\n",
       "    .dataframe tbody tr th:only-of-type {\n",
       "        vertical-align: middle;\n",
       "    }\n",
       "\n",
       "    .dataframe tbody tr th {\n",
       "        vertical-align: top;\n",
       "    }\n",
       "\n",
       "    .dataframe thead th {\n",
       "        text-align: right;\n",
       "    }\n",
       "</style>\n",
       "<table border=\"1\" class=\"dataframe\">\n",
       "  <thead>\n",
       "    <tr style=\"text-align: right;\">\n",
       "      <th></th>\n",
       "      <th>customer ID</th>\n",
       "      <th>quantity</th>\n",
       "      <th>total price</th>\n",
       "    </tr>\n",
       "  </thead>\n",
       "  <tbody>\n",
       "    <tr>\n",
       "      <th>1690</th>\n",
       "      <td>14646</td>\n",
       "      <td>197420</td>\n",
       "      <td>279904.10</td>\n",
       "    </tr>\n",
       "    <tr>\n",
       "      <th>4198</th>\n",
       "      <td>18102</td>\n",
       "      <td>64124</td>\n",
       "      <td>259657.30</td>\n",
       "    </tr>\n",
       "    <tr>\n",
       "      <th>3726</th>\n",
       "      <td>17450</td>\n",
       "      <td>69973</td>\n",
       "      <td>194390.79</td>\n",
       "    </tr>\n",
       "    <tr>\n",
       "      <th>3007</th>\n",
       "      <td>16446</td>\n",
       "      <td>80997</td>\n",
       "      <td>168472.50</td>\n",
       "    </tr>\n",
       "    <tr>\n",
       "      <th>1880</th>\n",
       "      <td>14911</td>\n",
       "      <td>80488</td>\n",
       "      <td>140945.53</td>\n",
       "    </tr>\n",
       "  </tbody>\n",
       "</table>\n",
       "</div>"
      ],
      "text/plain": [
       "      customer ID  quantity  total price\n",
       "1690        14646    197420    279904.10\n",
       "4198        18102     64124    259657.30\n",
       "3726        17450     69973    194390.79\n",
       "3007        16446     80997    168472.50\n",
       "1880        14911     80488    140945.53"
      ]
     },
     "execution_count": 45,
     "metadata": {},
     "output_type": "execute_result"
    }
   ],
   "source": [
    "customer_cltv.sort_values(\"total price\",ascending= False).head(5)"
   ]
  },
  {
   "cell_type": "markdown",
   "metadata": {},
   "source": [
    "# What is the Max amount spent on a single order ?"
   ]
  },
  {
   "cell_type": "code",
   "execution_count": 46,
   "metadata": {},
   "outputs": [
    {
     "data": {
      "text/html": [
       "<div>\n",
       "<style scoped>\n",
       "    .dataframe tbody tr th:only-of-type {\n",
       "        vertical-align: middle;\n",
       "    }\n",
       "\n",
       "    .dataframe tbody tr th {\n",
       "        vertical-align: top;\n",
       "    }\n",
       "\n",
       "    .dataframe thead th {\n",
       "        text-align: right;\n",
       "    }\n",
       "</style>\n",
       "<table border=\"1\" class=\"dataframe\">\n",
       "  <thead>\n",
       "    <tr style=\"text-align: right;\">\n",
       "      <th></th>\n",
       "      <th>customer ID</th>\n",
       "      <th>Total Orders</th>\n",
       "      <th>Total Order value</th>\n",
       "    </tr>\n",
       "  </thead>\n",
       "  <tbody>\n",
       "    <tr>\n",
       "      <th>0</th>\n",
       "      <td>12346</td>\n",
       "      <td>1</td>\n",
       "      <td>77183.60</td>\n",
       "    </tr>\n",
       "    <tr>\n",
       "      <th>1</th>\n",
       "      <td>12347</td>\n",
       "      <td>7</td>\n",
       "      <td>4310.00</td>\n",
       "    </tr>\n",
       "    <tr>\n",
       "      <th>2</th>\n",
       "      <td>12348</td>\n",
       "      <td>4</td>\n",
       "      <td>1437.24</td>\n",
       "    </tr>\n",
       "    <tr>\n",
       "      <th>3</th>\n",
       "      <td>12349</td>\n",
       "      <td>1</td>\n",
       "      <td>1457.55</td>\n",
       "    </tr>\n",
       "    <tr>\n",
       "      <th>4</th>\n",
       "      <td>12350</td>\n",
       "      <td>1</td>\n",
       "      <td>294.40</td>\n",
       "    </tr>\n",
       "    <tr>\n",
       "      <th>...</th>\n",
       "      <td>...</td>\n",
       "      <td>...</td>\n",
       "      <td>...</td>\n",
       "    </tr>\n",
       "    <tr>\n",
       "      <th>4330</th>\n",
       "      <td>18280</td>\n",
       "      <td>1</td>\n",
       "      <td>180.60</td>\n",
       "    </tr>\n",
       "    <tr>\n",
       "      <th>4331</th>\n",
       "      <td>18281</td>\n",
       "      <td>1</td>\n",
       "      <td>80.82</td>\n",
       "    </tr>\n",
       "    <tr>\n",
       "      <th>4332</th>\n",
       "      <td>18282</td>\n",
       "      <td>2</td>\n",
       "      <td>178.05</td>\n",
       "    </tr>\n",
       "    <tr>\n",
       "      <th>4333</th>\n",
       "      <td>18283</td>\n",
       "      <td>16</td>\n",
       "      <td>2039.58</td>\n",
       "    </tr>\n",
       "    <tr>\n",
       "      <th>4334</th>\n",
       "      <td>18287</td>\n",
       "      <td>3</td>\n",
       "      <td>1837.28</td>\n",
       "    </tr>\n",
       "  </tbody>\n",
       "</table>\n",
       "<p>4335 rows × 3 columns</p>\n",
       "</div>"
      ],
      "text/plain": [
       "      customer ID  Total Orders  Total Order value\n",
       "0           12346             1           77183.60\n",
       "1           12347             7            4310.00\n",
       "2           12348             4            1437.24\n",
       "3           12349             1            1457.55\n",
       "4           12350             1             294.40\n",
       "...           ...           ...                ...\n",
       "4330        18280             1             180.60\n",
       "4331        18281             1              80.82\n",
       "4332        18282             2             178.05\n",
       "4333        18283            16            2039.58\n",
       "4334        18287             3            1837.28\n",
       "\n",
       "[4335 rows x 3 columns]"
      ]
     },
     "execution_count": 46,
     "metadata": {},
     "output_type": "execute_result"
    }
   ],
   "source": [
    "order_history= df.groupby(\"customer ID\").agg({\n",
    "    \"invoice no\": \"nunique\",\n",
    "    \"total price\": \"sum\"\n",
    "}).reset_index()\n",
    "order_history.columns=[\"customer ID\",\"Total Orders\",\"Total Order value\"]\n",
    "order_history"
   ]
  },
  {
   "cell_type": "markdown",
   "metadata": {},
   "source": [
    "# Top 5 customers with max order value on a single order !"
   ]
  },
  {
   "cell_type": "code",
   "execution_count": 47,
   "metadata": {},
   "outputs": [
    {
     "data": {
      "text/html": [
       "<div>\n",
       "<style scoped>\n",
       "    .dataframe tbody tr th:only-of-type {\n",
       "        vertical-align: middle;\n",
       "    }\n",
       "\n",
       "    .dataframe tbody tr th {\n",
       "        vertical-align: top;\n",
       "    }\n",
       "\n",
       "    .dataframe thead th {\n",
       "        text-align: right;\n",
       "    }\n",
       "</style>\n",
       "<table border=\"1\" class=\"dataframe\">\n",
       "  <thead>\n",
       "    <tr style=\"text-align: right;\">\n",
       "      <th></th>\n",
       "      <th>customer ID</th>\n",
       "      <th>Total Orders</th>\n",
       "      <th>Total Order value</th>\n",
       "    </tr>\n",
       "  </thead>\n",
       "  <tbody>\n",
       "    <tr>\n",
       "      <th>0</th>\n",
       "      <td>12346</td>\n",
       "      <td>1</td>\n",
       "      <td>77183.60</td>\n",
       "    </tr>\n",
       "    <tr>\n",
       "      <th>685</th>\n",
       "      <td>13256</td>\n",
       "      <td>1</td>\n",
       "      <td>10659.00</td>\n",
       "    </tr>\n",
       "    <tr>\n",
       "      <th>196</th>\n",
       "      <td>12590</td>\n",
       "      <td>1</td>\n",
       "      <td>9341.26</td>\n",
       "    </tr>\n",
       "    <tr>\n",
       "      <th>10</th>\n",
       "      <td>12357</td>\n",
       "      <td>1</td>\n",
       "      <td>6207.67</td>\n",
       "    </tr>\n",
       "    <tr>\n",
       "      <th>278</th>\n",
       "      <td>12688</td>\n",
       "      <td>1</td>\n",
       "      <td>4873.81</td>\n",
       "    </tr>\n",
       "  </tbody>\n",
       "</table>\n",
       "</div>"
      ],
      "text/plain": [
       "     customer ID  Total Orders  Total Order value\n",
       "0          12346             1           77183.60\n",
       "685        13256             1           10659.00\n",
       "196        12590             1            9341.26\n",
       "10         12357             1            6207.67\n",
       "278        12688             1            4873.81"
      ]
     },
     "execution_count": 47,
     "metadata": {},
     "output_type": "execute_result"
    }
   ],
   "source": [
    "order_history.sort_values([\"Total Orders\",\"Total Order value\"],ascending=[True,False]).head(5)"
   ]
  },
  {
   "cell_type": "markdown",
   "metadata": {},
   "source": [
    "# top 5 Customer with most orders ?"
   ]
  },
  {
   "cell_type": "code",
   "execution_count": 48,
   "metadata": {},
   "outputs": [
    {
     "data": {
      "text/html": [
       "<div>\n",
       "<style scoped>\n",
       "    .dataframe tbody tr th:only-of-type {\n",
       "        vertical-align: middle;\n",
       "    }\n",
       "\n",
       "    .dataframe tbody tr th {\n",
       "        vertical-align: top;\n",
       "    }\n",
       "\n",
       "    .dataframe thead th {\n",
       "        text-align: right;\n",
       "    }\n",
       "</style>\n",
       "<table border=\"1\" class=\"dataframe\">\n",
       "  <thead>\n",
       "    <tr style=\"text-align: right;\">\n",
       "      <th></th>\n",
       "      <th>customer ID</th>\n",
       "      <th>Total Orders</th>\n",
       "      <th>Total Order value</th>\n",
       "    </tr>\n",
       "  </thead>\n",
       "  <tbody>\n",
       "    <tr>\n",
       "      <th>326</th>\n",
       "      <td>12748</td>\n",
       "      <td>206</td>\n",
       "      <td>31650.78</td>\n",
       "    </tr>\n",
       "    <tr>\n",
       "      <th>1880</th>\n",
       "      <td>14911</td>\n",
       "      <td>199</td>\n",
       "      <td>140945.53</td>\n",
       "    </tr>\n",
       "    <tr>\n",
       "      <th>4008</th>\n",
       "      <td>17841</td>\n",
       "      <td>124</td>\n",
       "      <td>40495.99</td>\n",
       "    </tr>\n",
       "    <tr>\n",
       "      <th>562</th>\n",
       "      <td>13089</td>\n",
       "      <td>97</td>\n",
       "      <td>58762.08</td>\n",
       "    </tr>\n",
       "    <tr>\n",
       "      <th>2177</th>\n",
       "      <td>15311</td>\n",
       "      <td>91</td>\n",
       "      <td>60632.75</td>\n",
       "    </tr>\n",
       "  </tbody>\n",
       "</table>\n",
       "</div>"
      ],
      "text/plain": [
       "      customer ID  Total Orders  Total Order value\n",
       "326         12748           206           31650.78\n",
       "1880        14911           199          140945.53\n",
       "4008        17841           124           40495.99\n",
       "562         13089            97           58762.08\n",
       "2177        15311            91           60632.75"
      ]
     },
     "execution_count": 48,
     "metadata": {},
     "output_type": "execute_result"
    }
   ],
   "source": [
    "order_history.sort_values(\"Total Orders\",ascending= False).head(5)"
   ]
  },
  {
   "cell_type": "markdown",
   "metadata": {},
   "source": [
    "# Lets understand about the order trend of customer 14911 in detail !"
   ]
  },
  {
   "cell_type": "code",
   "execution_count": 49,
   "metadata": {},
   "outputs": [
    {
     "data": {
      "text/html": [
       "<div>\n",
       "<style scoped>\n",
       "    .dataframe tbody tr th:only-of-type {\n",
       "        vertical-align: middle;\n",
       "    }\n",
       "\n",
       "    .dataframe tbody tr th {\n",
       "        vertical-align: top;\n",
       "    }\n",
       "\n",
       "    .dataframe thead th {\n",
       "        text-align: right;\n",
       "    }\n",
       "</style>\n",
       "<table border=\"1\" class=\"dataframe\">\n",
       "  <thead>\n",
       "    <tr style=\"text-align: right;\">\n",
       "      <th></th>\n",
       "      <th>invoice no</th>\n",
       "      <th>stock code</th>\n",
       "      <th>description</th>\n",
       "      <th>quantity</th>\n",
       "      <th>invoice date</th>\n",
       "      <th>unit price</th>\n",
       "      <th>customer ID</th>\n",
       "      <th>country</th>\n",
       "      <th>total price</th>\n",
       "    </tr>\n",
       "  </thead>\n",
       "  <tbody>\n",
       "    <tr>\n",
       "      <th>1390</th>\n",
       "      <td>536540</td>\n",
       "      <td>22150</td>\n",
       "      <td>3 STRIPEY MICE FELTCRAFT</td>\n",
       "      <td>12</td>\n",
       "      <td>2010-12-01 14:05:00</td>\n",
       "      <td>1.95</td>\n",
       "      <td>14911</td>\n",
       "      <td>Ireland</td>\n",
       "      <td>23.40</td>\n",
       "    </tr>\n",
       "    <tr>\n",
       "      <th>1391</th>\n",
       "      <td>536540</td>\n",
       "      <td>85071A</td>\n",
       "      <td>BLUE CHARLIE+LOLA PERSONAL DOORSIGN</td>\n",
       "      <td>6</td>\n",
       "      <td>2010-12-01 14:05:00</td>\n",
       "      <td>2.95</td>\n",
       "      <td>14911</td>\n",
       "      <td>Ireland</td>\n",
       "      <td>17.70</td>\n",
       "    </tr>\n",
       "    <tr>\n",
       "      <th>1392</th>\n",
       "      <td>536540</td>\n",
       "      <td>85135B</td>\n",
       "      <td>BLUE DRAGONFLY HELICOPTER</td>\n",
       "      <td>2</td>\n",
       "      <td>2010-12-01 14:05:00</td>\n",
       "      <td>7.95</td>\n",
       "      <td>14911</td>\n",
       "      <td>Ireland</td>\n",
       "      <td>15.90</td>\n",
       "    </tr>\n",
       "    <tr>\n",
       "      <th>1393</th>\n",
       "      <td>536540</td>\n",
       "      <td>22622</td>\n",
       "      <td>BOX OF VINTAGE ALPHABET BLOCKS</td>\n",
       "      <td>6</td>\n",
       "      <td>2010-12-01 14:05:00</td>\n",
       "      <td>9.95</td>\n",
       "      <td>14911</td>\n",
       "      <td>Ireland</td>\n",
       "      <td>59.70</td>\n",
       "    </tr>\n",
       "    <tr>\n",
       "      <th>1394</th>\n",
       "      <td>536540</td>\n",
       "      <td>21833</td>\n",
       "      <td>CAMOUFLAGE LED TORCH</td>\n",
       "      <td>12</td>\n",
       "      <td>2010-12-01 14:05:00</td>\n",
       "      <td>1.69</td>\n",
       "      <td>14911</td>\n",
       "      <td>Ireland</td>\n",
       "      <td>20.28</td>\n",
       "    </tr>\n",
       "    <tr>\n",
       "      <th>...</th>\n",
       "      <td>...</td>\n",
       "      <td>...</td>\n",
       "      <td>...</td>\n",
       "      <td>...</td>\n",
       "      <td>...</td>\n",
       "      <td>...</td>\n",
       "      <td>...</td>\n",
       "      <td>...</td>\n",
       "      <td>...</td>\n",
       "    </tr>\n",
       "    <tr>\n",
       "      <th>395425</th>\n",
       "      <td>581433</td>\n",
       "      <td>21111</td>\n",
       "      <td>SWISS ROLL TOWEL, CHOCOLATE  SPOTS</td>\n",
       "      <td>24</td>\n",
       "      <td>2011-12-08 15:54:00</td>\n",
       "      <td>1.25</td>\n",
       "      <td>14911</td>\n",
       "      <td>Ireland</td>\n",
       "      <td>30.00</td>\n",
       "    </tr>\n",
       "    <tr>\n",
       "      <th>395426</th>\n",
       "      <td>581433</td>\n",
       "      <td>22767</td>\n",
       "      <td>TRIPLE PHOTO FRAME CORNICE</td>\n",
       "      <td>2</td>\n",
       "      <td>2011-12-08 15:54:00</td>\n",
       "      <td>9.95</td>\n",
       "      <td>14911</td>\n",
       "      <td>Ireland</td>\n",
       "      <td>19.90</td>\n",
       "    </tr>\n",
       "    <tr>\n",
       "      <th>395427</th>\n",
       "      <td>581433</td>\n",
       "      <td>22472</td>\n",
       "      <td>TV DINNER TRAY DOLLY GIRL</td>\n",
       "      <td>8</td>\n",
       "      <td>2011-12-08 15:54:00</td>\n",
       "      <td>1.95</td>\n",
       "      <td>14911</td>\n",
       "      <td>Ireland</td>\n",
       "      <td>15.60</td>\n",
       "    </tr>\n",
       "    <tr>\n",
       "      <th>395428</th>\n",
       "      <td>581433</td>\n",
       "      <td>22473</td>\n",
       "      <td>TV DINNER TRAY VINTAGE PAISLEY</td>\n",
       "      <td>8</td>\n",
       "      <td>2011-12-08 15:54:00</td>\n",
       "      <td>1.95</td>\n",
       "      <td>14911</td>\n",
       "      <td>Ireland</td>\n",
       "      <td>15.60</td>\n",
       "    </tr>\n",
       "    <tr>\n",
       "      <th>395429</th>\n",
       "      <td>581433</td>\n",
       "      <td>23522</td>\n",
       "      <td>WALL ART DOG AND BALL</td>\n",
       "      <td>12</td>\n",
       "      <td>2011-12-08 15:54:00</td>\n",
       "      <td>1.25</td>\n",
       "      <td>14911</td>\n",
       "      <td>Ireland</td>\n",
       "      <td>15.00</td>\n",
       "    </tr>\n",
       "  </tbody>\n",
       "</table>\n",
       "<p>5670 rows × 9 columns</p>\n",
       "</div>"
      ],
      "text/plain": [
       "        invoice no stock code                          description  quantity  \\\n",
       "1390        536540      22150             3 STRIPEY MICE FELTCRAFT        12   \n",
       "1391        536540     85071A  BLUE CHARLIE+LOLA PERSONAL DOORSIGN         6   \n",
       "1392        536540     85135B            BLUE DRAGONFLY HELICOPTER         2   \n",
       "1393        536540      22622       BOX OF VINTAGE ALPHABET BLOCKS         6   \n",
       "1394        536540      21833                 CAMOUFLAGE LED TORCH        12   \n",
       "...            ...        ...                                  ...       ...   \n",
       "395425      581433      21111   SWISS ROLL TOWEL, CHOCOLATE  SPOTS        24   \n",
       "395426      581433      22767          TRIPLE PHOTO FRAME CORNICE          2   \n",
       "395427      581433      22472            TV DINNER TRAY DOLLY GIRL         8   \n",
       "395428      581433      22473       TV DINNER TRAY VINTAGE PAISLEY         8   \n",
       "395429      581433      23522               WALL ART DOG AND BALL         12   \n",
       "\n",
       "              invoice date  unit price  customer ID  country  total price  \n",
       "1390   2010-12-01 14:05:00        1.95        14911  Ireland        23.40  \n",
       "1391   2010-12-01 14:05:00        2.95        14911  Ireland        17.70  \n",
       "1392   2010-12-01 14:05:00        7.95        14911  Ireland        15.90  \n",
       "1393   2010-12-01 14:05:00        9.95        14911  Ireland        59.70  \n",
       "1394   2010-12-01 14:05:00        1.69        14911  Ireland        20.28  \n",
       "...                    ...         ...          ...      ...          ...  \n",
       "395425 2011-12-08 15:54:00        1.25        14911  Ireland        30.00  \n",
       "395426 2011-12-08 15:54:00        9.95        14911  Ireland        19.90  \n",
       "395427 2011-12-08 15:54:00        1.95        14911  Ireland        15.60  \n",
       "395428 2011-12-08 15:54:00        1.95        14911  Ireland        15.60  \n",
       "395429 2011-12-08 15:54:00        1.25        14911  Ireland        15.00  \n",
       "\n",
       "[5670 rows x 9 columns]"
      ]
     },
     "execution_count": 49,
     "metadata": {},
     "output_type": "execute_result"
    }
   ],
   "source": [
    "unique_customer= df[df[\"customer ID\"] == 14911]\n",
    "unique_customer"
   ]
  },
  {
   "cell_type": "markdown",
   "metadata": {},
   "source": [
    "It is good to see that the customer is from IRELAND, coz this can help in understanding the user order trend!"
   ]
  },
  {
   "cell_type": "code",
   "execution_count": 50,
   "metadata": {},
   "outputs": [
    {
     "data": {
      "text/plain": [
       "invoice date\n",
       "2010-12-31    13\n",
       "2011-01-31     6\n",
       "2011-02-28     4\n",
       "2011-03-31    13\n",
       "2011-04-30     8\n",
       "2011-05-31    15\n",
       "2011-06-30    17\n",
       "2011-07-31    16\n",
       "2011-08-31    12\n",
       "2011-09-30    28\n",
       "2011-10-31    24\n",
       "2011-11-30    34\n",
       "2011-12-31     9\n",
       "Freq: M, Name: invoice no, dtype: int64"
      ]
     },
     "execution_count": 50,
     "metadata": {},
     "output_type": "execute_result"
    }
   ],
   "source": [
    "unique_customer_monthly_data = unique_customer.resample(\"M\",on=\"invoice date\")[\"invoice no\"].nunique()\n",
    "unique_customer_monthly_data"
   ]
  },
  {
   "cell_type": "code",
   "execution_count": 51,
   "metadata": {},
   "outputs": [
    {
     "data": {
      "text/plain": [
       "<AxesSubplot:title={'center':'Order trend of user 14911'}, xlabel='Month', ylabel='Total Orders'>"
      ]
     },
     "execution_count": 51,
     "metadata": {},
     "output_type": "execute_result"
    },
    {
     "data": {
      "image/png": "[encoded data removed]",
      "text/plain": [
       "<Figure size 640x480 with 1 Axes>"
      ]
     },
     "metadata": {},
     "output_type": "display_data"
    }
   ],
   "source": [
    "unique_customer_monthly_data.plot(kind=\"line\",x=\"invoice date\",y=\"invoice no\",xlabel=\"Month\",ylabel=\"Total Orders\",title=\"Order trend of user 14911\",color=\"green\")"
   ]
  },
  {
   "cell_type": "markdown",
   "metadata": {},
   "source": [
    "# 5. Relations and conclusion"
   ]
  },
  {
   "cell_type": "markdown",
   "metadata": {},
   "source": [
    "# Does order quantity determines price ?"
   ]
  },
  {
   "cell_type": "markdown",
   "metadata": {},
   "source": [
    "Let's plot a scatter plot with a regression line to get a detailed undestanding of the Dependend variable \"Quantity\"and Independent(predictor) \"Price\" in detail."
   ]
  },
  {
   "cell_type": "code",
   "execution_count": 52,
   "metadata": {},
   "outputs": [
    {
     "data": {
      "text/plain": [
       "<AxesSubplot:xlabel='quantity', ylabel='total price'>"
      ]
     },
     "execution_count": 52,
     "metadata": {},
     "output_type": "execute_result"
    },
    {
     "data": {
      "image/png": "[encoded data removed]",
      "text/plain": [
       "<Figure size 640x480 with 1 Axes>"
      ]
     },
     "metadata": {},
     "output_type": "display_data"
    }
   ],
   "source": [
    "import seaborn as sns\n",
    "sns.regplot(x=\"quantity\",y=\"total price\",data= df)"
   ]
  },
  {
   "cell_type": "markdown",
   "metadata": {},
   "source": [
    "We see that there are 4 outliers or which are really very away from the cluster. Lets break down the axis a bit."
   ]
  },
  {
   "cell_type": "code",
   "execution_count": 53,
   "metadata": {},
   "outputs": [
    {
     "data": {
      "text/plain": [
       "(0.0, 8000.0)"
      ]
     },
     "execution_count": 53,
     "metadata": {},
     "output_type": "execute_result"
    },
    {
     "data": {
      "image/png": "[encoded data removed]",
      "text/plain": [
       "<Figure size 640x480 with 1 Axes>"
      ]
     },
     "metadata": {},
     "output_type": "display_data"
    }
   ],
   "source": [
    "import seaborn as sns\n",
    "sns.regplot(x=\"quantity\",y=\"total price\",data= df)\n",
    "plt.xlim(0,5000)\n",
    "plt.ylim(0,8000)"
   ]
  },
  {
   "cell_type": "markdown",
   "metadata": {},
   "source": [
    "From the plot we see a positive linear relation between  quantity and price !"
   ]
  },
  {
   "cell_type": "markdown",
   "metadata": {},
   "source": [
    "# Correlation"
   ]
  },
  {
   "cell_type": "code",
   "execution_count": 54,
   "metadata": {},
   "outputs": [
    {
     "data": {
      "text/plain": [
       "0.9160003791385866"
      ]
     },
     "execution_count": 54,
     "metadata": {},
     "output_type": "execute_result"
    }
   ],
   "source": [
    "correlation= df[\"quantity\"].corr(df[\"total price\"])\n",
    "correlation"
   ]
  },
  {
   "cell_type": "markdown",
   "metadata": {},
   "source": [
    "A correlation value of 0.91 indicates a strong positive linear relationship between \"quantity\" and \"Price\". It suggests that if the order quantity increases the total price also increases. If the order Quantity decreases the Total Price also decreases."
   ]
  },
  {
   "cell_type": "markdown",
   "metadata": {},
   "source": [
    "# Conclusion"
   ]
  },
  {
   "cell_type": "markdown",
   "metadata": {},
   "source": [
    "The company's revenue is directly tied to the quantity of orders it receives. Therefore, to achieve a higher revenue growth, the company should focus on enhancing its sales performance."
   ]
  }
 ],
 "metadata": {
  "kernelspec": {
   "display_name": "base",
   "language": "python",
   "name": "python3"
  },
  "language_info": {
   "codemirror_mode": {
    "name": "ipython",
    "version": 3
   },
   "file_extension": ".py",
   "mimetype": "text/x-python",
   "name": "python",
   "nbconvert_exporter": "python",
   "pygments_lexer": "ipython3",
   "version": "3.9.13"
  },
  "orig_nbformat": 4
 },
 "nbformat": 4,
 "nbformat_minor": 2
}
